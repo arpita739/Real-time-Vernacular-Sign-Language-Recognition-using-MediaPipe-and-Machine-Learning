{
  "nbformat": 4,
  "nbformat_minor": 0,
  "metadata": {
    "colab": {
      "name": "asl-sign.ipynb",
      "provenance": [],
      "collapsed_sections": []
    },
    "kernelspec": {
      "display_name": "Python 3",
      "name": "python3"
    }
  },
  "cells": [
    {
      "cell_type": "code",
      "metadata": {
        "colab": {
          "base_uri": "https://localhost:8080/"
        },
        "id": "56dTmJneULGe",
        "outputId": "79b8c334-520e-4083-da91-02a9b6da3e96"
      },
      "source": [
        "from google.colab import drive\n",
        "drive.mount(\"/content/drive\") "
      ],
      "execution_count": null,
      "outputs": [
        {
          "output_type": "stream",
          "text": [
            "Mounted at /content/drive\n"
          ],
          "name": "stdout"
        }
      ]
    },
    {
      "cell_type": "code",
      "metadata": {
        "id": "TZFZezxmd_gV"
      },
      "source": [
        "import pandas as pd\n",
        "from sklearn.model_selection import train_test_split\n",
        "from sklearn.preprocessing import LabelEncoder \n",
        "import numpy as np\n",
        "import tensorflow as tf\n",
        "from tensorflow import keras\n",
        "from tensorflow.keras import layers\n",
        "from sklearn.metrics import accuracy_score\n",
        "from sklearn.metrics import f1_score\n",
        "from keras.layers import Bidirectional\n",
        "from random import random\n",
        "from numpy import array\n",
        "from numpy import cumsum\n",
        "from keras.models import Sequential\n",
        "from keras.layers import LSTM,Activation,Dropout\n",
        "from keras.layers import Dense\n",
        "from keras.layers import TimeDistributed\n",
        "from keras.layers import Bidirectional\n",
        "import pickle\n",
        "from sklearn.ensemble import RandomForestClassifier\n",
        "from lightgbm import LGBMClassifier\n",
        "from xgboost import XGBClassifier\n",
        "from sklearn.svm import SVC\n",
        "#from numpy import dstac\n",
        "import glob"
      ],
      "execution_count": null,
      "outputs": []
    },
    {
      "cell_type": "code",
      "metadata": {
        "id": "74pnWaiELfNV"
      },
      "source": [
        "header=[]\r\n",
        "for i in range(0,43):\r\n",
        "  header.append(i)"
      ],
      "execution_count": null,
      "outputs": []
    },
    {
      "cell_type": "code",
      "metadata": {
        "colab": {
          "base_uri": "https://localhost:8080/"
        },
        "id": "21Pw42MTeBD-",
        "outputId": "f6edb180-3593-4dd8-e16c-574f54e70d8c"
      },
      "source": [
        "df=pd.read_csv('/content/drive/MyDrive/asl/easter.csv',names=header)\n",
        "#df.columns=header\n",
        "#df=df.fillna(0,axis=1)\n",
        "#df['y']='book'\n",
        "#df=df.drop('Unnamed: 0',axis=1)\n",
        "df.head(100)\n",
        "df.shape"
      ],
      "execution_count": null,
      "outputs": [
        {
          "output_type": "execute_result",
          "data": {
            "text/plain": [
              "(85, 43)"
            ]
          },
          "metadata": {
            "tags": []
          },
          "execution_count": 4
        }
      ]
    },
    {
      "cell_type": "code",
      "metadata": {
        "colab": {
          "base_uri": "https://localhost:8080/"
        },
        "id": "wL5l2nbdL-Sh",
        "outputId": "f877485c-0504-4143-bdc9-e05f65570905"
      },
      "source": [
        "df_like=pd.read_csv('/content/drive/MyDrive/asl/like.csv',names=header)\r\n",
        "#df.columns=header\r\n",
        "#df=df.fillna(0,axis=1)\r\n",
        "#df['y']='book'\r\n",
        "#df=df.drop('Unnamed: 0',axis=1)\r\n",
        "df_like.head(100)\r\n",
        "df_like.shape"
      ],
      "execution_count": null,
      "outputs": [
        {
          "output_type": "execute_result",
          "data": {
            "text/plain": [
              "(23, 43)"
            ]
          },
          "metadata": {
            "tags": []
          },
          "execution_count": 5
        }
      ]
    },
    {
      "cell_type": "code",
      "metadata": {
        "colab": {
          "base_uri": "https://localhost:8080/"
        },
        "id": "Y_akx-PYMI8X",
        "outputId": "846106b9-615b-47fe-ccba-76bb2576343d"
      },
      "source": [
        "df_phone=pd.read_csv('/content/drive/MyDrive/asl/phone.csv',names=header)\r\n",
        "#df.columns=header\r\n",
        "#df=df.fillna(0,axis=1)\r\n",
        "#df['y']='book'\r\n",
        "#df=df.drop('Unnamed: 0',axis=1)\r\n",
        "df_phone.head(100)\r\n",
        "df_phone.shape"
      ],
      "execution_count": null,
      "outputs": [
        {
          "output_type": "execute_result",
          "data": {
            "text/plain": [
              "(160, 43)"
            ]
          },
          "metadata": {
            "tags": []
          },
          "execution_count": 6
        }
      ]
    },
    {
      "cell_type": "code",
      "metadata": {
        "colab": {
          "base_uri": "https://localhost:8080/"
        },
        "id": "_XZySWzcMRjb",
        "outputId": "92c0ccf5-348e-4905-f5a9-243ed6f8df12"
      },
      "source": [
        "df_rainbow=pd.read_csv('/content/drive/MyDrive/asl/rainbow.csv',names=header)\r\n",
        "#df.columns=header\r\n",
        "#df=df.fillna(0,axis=1)\r\n",
        "#df['y']='book'\r\n",
        "#df=df.drop('Unnamed: 0',axis=1)\r\n",
        "df_rainbow.head(100)\r\n",
        "df_rainbow.shape"
      ],
      "execution_count": null,
      "outputs": [
        {
          "output_type": "execute_result",
          "data": {
            "text/plain": [
              "(64, 43)"
            ]
          },
          "metadata": {
            "tags": []
          },
          "execution_count": 7
        }
      ]
    },
    {
      "cell_type": "code",
      "metadata": {
        "colab": {
          "base_uri": "https://localhost:8080/"
        },
        "id": "g6oaODo_5LpU",
        "outputId": "7af494e5-532c-4643-bf5b-393bfbea9ddf"
      },
      "source": [
        "df_some=pd.read_csv('/content/drive/MyDrive/asl/some.csv',names=header)\r\n",
        "df_some.head()\r\n",
        "df_some.shape"
      ],
      "execution_count": null,
      "outputs": [
        {
          "output_type": "execute_result",
          "data": {
            "text/plain": [
              "(41, 43)"
            ]
          },
          "metadata": {
            "tags": []
          },
          "execution_count": 8
        }
      ]
    },
    {
      "cell_type": "code",
      "metadata": {
        "colab": {
          "base_uri": "https://localhost:8080/"
        },
        "id": "6zDjvA695l0j",
        "outputId": "36ad4b8a-d23e-4edc-e486-4f816f27751a"
      },
      "source": [
        "df_boring=pd.read_csv('/content/drive/MyDrive/asl/boring.csv',names=header)\r\n",
        "df_boring.head()\r\n",
        "df_boring.shape"
      ],
      "execution_count": null,
      "outputs": [
        {
          "output_type": "execute_result",
          "data": {
            "text/plain": [
              "(64, 43)"
            ]
          },
          "metadata": {
            "tags": []
          },
          "execution_count": 9
        }
      ]
    },
    {
      "cell_type": "code",
      "metadata": {
        "colab": {
          "base_uri": "https://localhost:8080/"
        },
        "id": "y7kUN8xd6yz8",
        "outputId": "f01c4aa5-64d6-422b-87cc-e29ce0d2ab52"
      },
      "source": [
        "df_lib=pd.read_csv('/content/drive/MyDrive/asl/library.csv',names=header)\r\n",
        "df_lib.head()\r\n",
        "df_lib.shape"
      ],
      "execution_count": null,
      "outputs": [
        {
          "output_type": "execute_result",
          "data": {
            "text/plain": [
              "(51, 43)"
            ]
          },
          "metadata": {
            "tags": []
          },
          "execution_count": 10
        }
      ]
    },
    {
      "cell_type": "code",
      "metadata": {
        "colab": {
          "base_uri": "https://localhost:8080/"
        },
        "id": "RRyfTAfJSplY",
        "outputId": "a437e1ec-ad1c-416b-ee8d-d9d617ee7c73"
      },
      "source": [
        "df_sorry=pd.read_csv('/content/drive/MyDrive/asl/sorry.csv',names=header)\r\n",
        "df_sorry.shape"
      ],
      "execution_count": null,
      "outputs": [
        {
          "output_type": "execute_result",
          "data": {
            "text/plain": [
              "(8, 43)"
            ]
          },
          "metadata": {
            "tags": []
          },
          "execution_count": 13
        }
      ]
    },
    {
      "cell_type": "code",
      "metadata": {
        "colab": {
          "base_uri": "https://localhost:8080/"
        },
        "id": "OQ1jFrDuSr1B",
        "outputId": "786a1774-7cda-4e0a-887a-fa2e99f9f4d1"
      },
      "source": [
        "df_thankyou=pd.read_csv('/content/drive/MyDrive/asl/thank you.csv',names=header)\r\n",
        "df_thankyou.shape"
      ],
      "execution_count": null,
      "outputs": [
        {
          "output_type": "execute_result",
          "data": {
            "text/plain": [
              "(35, 43)"
            ]
          },
          "metadata": {
            "tags": []
          },
          "execution_count": 14
        }
      ]
    },
    {
      "cell_type": "code",
      "metadata": {
        "colab": {
          "base_uri": "https://localhost:8080/"
        },
        "id": "UEhpXBcISzYE",
        "outputId": "1c4698aa-20a5-4b76-91c9-b8c6d533013b"
      },
      "source": [
        "df_white=pd.read_csv('/content/drive/MyDrive/asl/white.csv',names=header)\r\n",
        "df_white.shape"
      ],
      "execution_count": null,
      "outputs": [
        {
          "output_type": "execute_result",
          "data": {
            "text/plain": [
              "(48, 43)"
            ]
          },
          "metadata": {
            "tags": []
          },
          "execution_count": 15
        }
      ]
    },
    {
      "cell_type": "code",
      "metadata": {
        "colab": {
          "base_uri": "https://localhost:8080/"
        },
        "id": "1sJMWHWaS82j",
        "outputId": "dd3fa93d-11da-48c6-d39a-1ae75db2e77c"
      },
      "source": [
        "df_yesterday=pd.read_csv('/content/drive/MyDrive/asl/yesterday.csv',names=header)\r\n",
        "df_yesterday.shape"
      ],
      "execution_count": null,
      "outputs": [
        {
          "output_type": "execute_result",
          "data": {
            "text/plain": [
              "(52, 43)"
            ]
          },
          "metadata": {
            "tags": []
          },
          "execution_count": 16
        }
      ]
    },
    {
      "cell_type": "code",
      "metadata": {
        "colab": {
          "base_uri": "https://localhost:8080/"
        },
        "id": "hklHTloeTZpu",
        "outputId": "72cf2844-1ea8-4d5c-b274-7960231ad13b"
      },
      "source": [
        "df_bed=pd.read_csv('/content/drive/MyDrive/asl/bed.csv',names=header)\r\n",
        "df_bed.shape"
      ],
      "execution_count": null,
      "outputs": [
        {
          "output_type": "execute_result",
          "data": {
            "text/plain": [
              "(30, 43)"
            ]
          },
          "metadata": {
            "tags": []
          },
          "execution_count": 18
        }
      ]
    },
    {
      "cell_type": "code",
      "metadata": {
        "colab": {
          "base_uri": "https://localhost:8080/"
        },
        "id": "QsL1pEJnMRf2",
        "outputId": "dc231897-440f-4a93-88ec-c338de6c3df9"
      },
      "source": [
        "df=pd.concat([df_phone,df,df_rainbow,df_boring,df_yesterday,df_lib,df_some,df_white,df_thankyou,df_bed,df_like,df_sorry],ignore_index=True)\r\n",
        "df.shape"
      ],
      "execution_count": null,
      "outputs": [
        {
          "output_type": "execute_result",
          "data": {
            "text/plain": [
              "(1064, 43)"
            ]
          },
          "metadata": {
            "tags": []
          },
          "execution_count": 19
        }
      ]
    },
    {
      "cell_type": "code",
      "metadata": {
        "id": "4jVzJ-OhQ909"
      },
      "source": [
        "df.to_csv('/content/drive/MyDrive/asl/12_classes.csv',index=False)"
      ],
      "execution_count": null,
      "outputs": []
    },
    {
      "cell_type": "code",
      "metadata": {
        "colab": {
          "base_uri": "https://localhost:8080/"
        },
        "id": "8L2LrM3fLcSQ",
        "outputId": "42fe4677-f86d-4cb0-8874-605a839d2ae4"
      },
      "source": [
        "df.shape"
      ],
      "execution_count": null,
      "outputs": [
        {
          "output_type": "execute_result",
          "data": {
            "text/plain": [
              "(1064, 43)"
            ]
          },
          "metadata": {
            "tags": []
          },
          "execution_count": 21
        }
      ]
    },
    {
      "cell_type": "code",
      "metadata": {
        "colab": {
          "base_uri": "https://localhost:8080/",
          "height": 422
        },
        "id": "WJCA3lHE7dNE",
        "outputId": "828d203c-855b-4de4-c440-61f629c41664"
      },
      "source": [
        "df_comb=pd.read_csv('/content/drive/MyDrive/asl/12_classes.csv')\r\n",
        "df_comb.head(100)"
      ],
      "execution_count": null,
      "outputs": [
        {
          "output_type": "execute_result",
          "data": {
            "text/html": [
              "<div>\n",
              "<style scoped>\n",
              "    .dataframe tbody tr th:only-of-type {\n",
              "        vertical-align: middle;\n",
              "    }\n",
              "\n",
              "    .dataframe tbody tr th {\n",
              "        vertical-align: top;\n",
              "    }\n",
              "\n",
              "    .dataframe thead th {\n",
              "        text-align: right;\n",
              "    }\n",
              "</style>\n",
              "<table border=\"1\" class=\"dataframe\">\n",
              "  <thead>\n",
              "    <tr style=\"text-align: right;\">\n",
              "      <th></th>\n",
              "      <th>0</th>\n",
              "      <th>1</th>\n",
              "      <th>2</th>\n",
              "      <th>3</th>\n",
              "      <th>4</th>\n",
              "      <th>5</th>\n",
              "      <th>6</th>\n",
              "      <th>7</th>\n",
              "      <th>8</th>\n",
              "      <th>9</th>\n",
              "      <th>10</th>\n",
              "      <th>11</th>\n",
              "      <th>12</th>\n",
              "      <th>13</th>\n",
              "      <th>14</th>\n",
              "      <th>15</th>\n",
              "      <th>16</th>\n",
              "      <th>17</th>\n",
              "      <th>18</th>\n",
              "      <th>19</th>\n",
              "      <th>20</th>\n",
              "      <th>21</th>\n",
              "      <th>22</th>\n",
              "      <th>23</th>\n",
              "      <th>24</th>\n",
              "      <th>25</th>\n",
              "      <th>26</th>\n",
              "      <th>27</th>\n",
              "      <th>28</th>\n",
              "      <th>29</th>\n",
              "      <th>30</th>\n",
              "      <th>31</th>\n",
              "      <th>32</th>\n",
              "      <th>33</th>\n",
              "      <th>34</th>\n",
              "      <th>35</th>\n",
              "      <th>36</th>\n",
              "      <th>37</th>\n",
              "      <th>38</th>\n",
              "      <th>39</th>\n",
              "      <th>40</th>\n",
              "      <th>41</th>\n",
              "      <th>42</th>\n",
              "    </tr>\n",
              "  </thead>\n",
              "  <tbody>\n",
              "    <tr>\n",
              "      <th>0</th>\n",
              "      <td>0.699668</td>\n",
              "      <td>0.598541</td>\n",
              "      <td>0.711023</td>\n",
              "      <td>0.518234</td>\n",
              "      <td>0.724348</td>\n",
              "      <td>0.457568</td>\n",
              "      <td>0.732859</td>\n",
              "      <td>0.412622</td>\n",
              "      <td>0.735910</td>\n",
              "      <td>0.366709</td>\n",
              "      <td>0.757858</td>\n",
              "      <td>0.505174</td>\n",
              "      <td>0.738335</td>\n",
              "      <td>0.474635</td>\n",
              "      <td>0.710606</td>\n",
              "      <td>0.459089</td>\n",
              "      <td>0.693449</td>\n",
              "      <td>0.447280</td>\n",
              "      <td>0.751379</td>\n",
              "      <td>0.556947</td>\n",
              "      <td>0.713902</td>\n",
              "      <td>0.516596</td>\n",
              "      <td>0.682875</td>\n",
              "      <td>0.488810</td>\n",
              "      <td>0.665112</td>\n",
              "      <td>0.471738</td>\n",
              "      <td>0.736462</td>\n",
              "      <td>0.603074</td>\n",
              "      <td>0.697950</td>\n",
              "      <td>0.565541</td>\n",
              "      <td>0.670673</td>\n",
              "      <td>0.539903</td>\n",
              "      <td>0.654794</td>\n",
              "      <td>0.527246</td>\n",
              "      <td>0.717956</td>\n",
              "      <td>0.641573</td>\n",
              "      <td>0.688474</td>\n",
              "      <td>0.609738</td>\n",
              "      <td>0.670096</td>\n",
              "      <td>0.589681</td>\n",
              "      <td>0.656628</td>\n",
              "      <td>0.580746</td>\n",
              "      <td>phone</td>\n",
              "    </tr>\n",
              "    <tr>\n",
              "      <th>1</th>\n",
              "      <td>0.673724</td>\n",
              "      <td>0.327910</td>\n",
              "      <td>0.663437</td>\n",
              "      <td>0.283490</td>\n",
              "      <td>0.648666</td>\n",
              "      <td>0.249689</td>\n",
              "      <td>0.636888</td>\n",
              "      <td>0.220993</td>\n",
              "      <td>0.633543</td>\n",
              "      <td>0.197429</td>\n",
              "      <td>0.632804</td>\n",
              "      <td>0.229234</td>\n",
              "      <td>0.605002</td>\n",
              "      <td>0.238324</td>\n",
              "      <td>0.601950</td>\n",
              "      <td>0.253614</td>\n",
              "      <td>0.604633</td>\n",
              "      <td>0.261808</td>\n",
              "      <td>0.629057</td>\n",
              "      <td>0.240415</td>\n",
              "      <td>0.601492</td>\n",
              "      <td>0.263202</td>\n",
              "      <td>0.603972</td>\n",
              "      <td>0.278508</td>\n",
              "      <td>0.610892</td>\n",
              "      <td>0.282781</td>\n",
              "      <td>0.625758</td>\n",
              "      <td>0.261072</td>\n",
              "      <td>0.601441</td>\n",
              "      <td>0.279269</td>\n",
              "      <td>0.605977</td>\n",
              "      <td>0.293489</td>\n",
              "      <td>0.614813</td>\n",
              "      <td>0.298133</td>\n",
              "      <td>0.623877</td>\n",
              "      <td>0.286915</td>\n",
              "      <td>0.599319</td>\n",
              "      <td>0.287267</td>\n",
              "      <td>0.587812</td>\n",
              "      <td>0.293071</td>\n",
              "      <td>0.581259</td>\n",
              "      <td>0.296960</td>\n",
              "      <td>phone</td>\n",
              "    </tr>\n",
              "    <tr>\n",
              "      <th>2</th>\n",
              "      <td>0.676210</td>\n",
              "      <td>0.324927</td>\n",
              "      <td>0.664404</td>\n",
              "      <td>0.278237</td>\n",
              "      <td>0.649254</td>\n",
              "      <td>0.245659</td>\n",
              "      <td>0.637734</td>\n",
              "      <td>0.215539</td>\n",
              "      <td>0.635429</td>\n",
              "      <td>0.188543</td>\n",
              "      <td>0.632403</td>\n",
              "      <td>0.227967</td>\n",
              "      <td>0.606003</td>\n",
              "      <td>0.235843</td>\n",
              "      <td>0.603559</td>\n",
              "      <td>0.249284</td>\n",
              "      <td>0.606467</td>\n",
              "      <td>0.257006</td>\n",
              "      <td>0.629629</td>\n",
              "      <td>0.239657</td>\n",
              "      <td>0.602795</td>\n",
              "      <td>0.262991</td>\n",
              "      <td>0.606768</td>\n",
              "      <td>0.275963</td>\n",
              "      <td>0.614750</td>\n",
              "      <td>0.279932</td>\n",
              "      <td>0.627942</td>\n",
              "      <td>0.261511</td>\n",
              "      <td>0.604015</td>\n",
              "      <td>0.280641</td>\n",
              "      <td>0.610649</td>\n",
              "      <td>0.293936</td>\n",
              "      <td>0.620717</td>\n",
              "      <td>0.298412</td>\n",
              "      <td>0.628288</td>\n",
              "      <td>0.287906</td>\n",
              "      <td>0.602468</td>\n",
              "      <td>0.287714</td>\n",
              "      <td>0.588695</td>\n",
              "      <td>0.289339</td>\n",
              "      <td>0.579166</td>\n",
              "      <td>0.290419</td>\n",
              "      <td>phone</td>\n",
              "    </tr>\n",
              "    <tr>\n",
              "      <th>3</th>\n",
              "      <td>0.677098</td>\n",
              "      <td>0.325973</td>\n",
              "      <td>0.666078</td>\n",
              "      <td>0.276917</td>\n",
              "      <td>0.650324</td>\n",
              "      <td>0.243135</td>\n",
              "      <td>0.638877</td>\n",
              "      <td>0.214663</td>\n",
              "      <td>0.635539</td>\n",
              "      <td>0.189242</td>\n",
              "      <td>0.636283</td>\n",
              "      <td>0.228602</td>\n",
              "      <td>0.612383</td>\n",
              "      <td>0.231424</td>\n",
              "      <td>0.604296</td>\n",
              "      <td>0.240305</td>\n",
              "      <td>0.600724</td>\n",
              "      <td>0.247890</td>\n",
              "      <td>0.633267</td>\n",
              "      <td>0.241605</td>\n",
              "      <td>0.607772</td>\n",
              "      <td>0.256355</td>\n",
              "      <td>0.605658</td>\n",
              "      <td>0.267598</td>\n",
              "      <td>0.608837</td>\n",
              "      <td>0.274657</td>\n",
              "      <td>0.631199</td>\n",
              "      <td>0.262613</td>\n",
              "      <td>0.607498</td>\n",
              "      <td>0.272684</td>\n",
              "      <td>0.608511</td>\n",
              "      <td>0.283744</td>\n",
              "      <td>0.614338</td>\n",
              "      <td>0.291720</td>\n",
              "      <td>0.630723</td>\n",
              "      <td>0.287593</td>\n",
              "      <td>0.607365</td>\n",
              "      <td>0.286390</td>\n",
              "      <td>0.594817</td>\n",
              "      <td>0.288503</td>\n",
              "      <td>0.586773</td>\n",
              "      <td>0.290987</td>\n",
              "      <td>phone</td>\n",
              "    </tr>\n",
              "    <tr>\n",
              "      <th>4</th>\n",
              "      <td>0.675773</td>\n",
              "      <td>0.318916</td>\n",
              "      <td>0.664934</td>\n",
              "      <td>0.272766</td>\n",
              "      <td>0.649632</td>\n",
              "      <td>0.240695</td>\n",
              "      <td>0.639143</td>\n",
              "      <td>0.212163</td>\n",
              "      <td>0.636871</td>\n",
              "      <td>0.187047</td>\n",
              "      <td>0.634783</td>\n",
              "      <td>0.227833</td>\n",
              "      <td>0.610734</td>\n",
              "      <td>0.235731</td>\n",
              "      <td>0.605143</td>\n",
              "      <td>0.246063</td>\n",
              "      <td>0.604335</td>\n",
              "      <td>0.253448</td>\n",
              "      <td>0.631717</td>\n",
              "      <td>0.240038</td>\n",
              "      <td>0.605976</td>\n",
              "      <td>0.257019</td>\n",
              "      <td>0.604894</td>\n",
              "      <td>0.269003</td>\n",
              "      <td>0.609192</td>\n",
              "      <td>0.276333</td>\n",
              "      <td>0.629802</td>\n",
              "      <td>0.261055</td>\n",
              "      <td>0.605363</td>\n",
              "      <td>0.273110</td>\n",
              "      <td>0.607209</td>\n",
              "      <td>0.285562</td>\n",
              "      <td>0.613930</td>\n",
              "      <td>0.293198</td>\n",
              "      <td>0.629563</td>\n",
              "      <td>0.285660</td>\n",
              "      <td>0.604947</td>\n",
              "      <td>0.285042</td>\n",
              "      <td>0.592130</td>\n",
              "      <td>0.287761</td>\n",
              "      <td>0.583874</td>\n",
              "      <td>0.289612</td>\n",
              "      <td>phone</td>\n",
              "    </tr>\n",
              "    <tr>\n",
              "      <th>...</th>\n",
              "      <td>...</td>\n",
              "      <td>...</td>\n",
              "      <td>...</td>\n",
              "      <td>...</td>\n",
              "      <td>...</td>\n",
              "      <td>...</td>\n",
              "      <td>...</td>\n",
              "      <td>...</td>\n",
              "      <td>...</td>\n",
              "      <td>...</td>\n",
              "      <td>...</td>\n",
              "      <td>...</td>\n",
              "      <td>...</td>\n",
              "      <td>...</td>\n",
              "      <td>...</td>\n",
              "      <td>...</td>\n",
              "      <td>...</td>\n",
              "      <td>...</td>\n",
              "      <td>...</td>\n",
              "      <td>...</td>\n",
              "      <td>...</td>\n",
              "      <td>...</td>\n",
              "      <td>...</td>\n",
              "      <td>...</td>\n",
              "      <td>...</td>\n",
              "      <td>...</td>\n",
              "      <td>...</td>\n",
              "      <td>...</td>\n",
              "      <td>...</td>\n",
              "      <td>...</td>\n",
              "      <td>...</td>\n",
              "      <td>...</td>\n",
              "      <td>...</td>\n",
              "      <td>...</td>\n",
              "      <td>...</td>\n",
              "      <td>...</td>\n",
              "      <td>...</td>\n",
              "      <td>...</td>\n",
              "      <td>...</td>\n",
              "      <td>...</td>\n",
              "      <td>...</td>\n",
              "      <td>...</td>\n",
              "      <td>...</td>\n",
              "    </tr>\n",
              "    <tr>\n",
              "      <th>95</th>\n",
              "      <td>0.674646</td>\n",
              "      <td>0.315296</td>\n",
              "      <td>0.660923</td>\n",
              "      <td>0.267675</td>\n",
              "      <td>0.643674</td>\n",
              "      <td>0.237039</td>\n",
              "      <td>0.627387</td>\n",
              "      <td>0.221031</td>\n",
              "      <td>0.616174</td>\n",
              "      <td>0.220150</td>\n",
              "      <td>0.629132</td>\n",
              "      <td>0.201378</td>\n",
              "      <td>0.598517</td>\n",
              "      <td>0.224318</td>\n",
              "      <td>0.605403</td>\n",
              "      <td>0.242321</td>\n",
              "      <td>0.618172</td>\n",
              "      <td>0.244556</td>\n",
              "      <td>0.625472</td>\n",
              "      <td>0.215905</td>\n",
              "      <td>0.595072</td>\n",
              "      <td>0.244930</td>\n",
              "      <td>0.603648</td>\n",
              "      <td>0.262208</td>\n",
              "      <td>0.617168</td>\n",
              "      <td>0.265288</td>\n",
              "      <td>0.621881</td>\n",
              "      <td>0.241114</td>\n",
              "      <td>0.593514</td>\n",
              "      <td>0.264305</td>\n",
              "      <td>0.602788</td>\n",
              "      <td>0.282499</td>\n",
              "      <td>0.617081</td>\n",
              "      <td>0.286769</td>\n",
              "      <td>0.619818</td>\n",
              "      <td>0.271324</td>\n",
              "      <td>0.587574</td>\n",
              "      <td>0.271847</td>\n",
              "      <td>0.569765</td>\n",
              "      <td>0.273318</td>\n",
              "      <td>0.557651</td>\n",
              "      <td>0.272598</td>\n",
              "      <td>phone</td>\n",
              "    </tr>\n",
              "    <tr>\n",
              "      <th>96</th>\n",
              "      <td>0.674171</td>\n",
              "      <td>0.311889</td>\n",
              "      <td>0.662198</td>\n",
              "      <td>0.268236</td>\n",
              "      <td>0.645054</td>\n",
              "      <td>0.238738</td>\n",
              "      <td>0.629340</td>\n",
              "      <td>0.223323</td>\n",
              "      <td>0.619137</td>\n",
              "      <td>0.223571</td>\n",
              "      <td>0.631217</td>\n",
              "      <td>0.199992</td>\n",
              "      <td>0.600289</td>\n",
              "      <td>0.223493</td>\n",
              "      <td>0.606313</td>\n",
              "      <td>0.243455</td>\n",
              "      <td>0.618012</td>\n",
              "      <td>0.246437</td>\n",
              "      <td>0.627437</td>\n",
              "      <td>0.214359</td>\n",
              "      <td>0.597265</td>\n",
              "      <td>0.244544</td>\n",
              "      <td>0.606071</td>\n",
              "      <td>0.263138</td>\n",
              "      <td>0.619381</td>\n",
              "      <td>0.266368</td>\n",
              "      <td>0.623721</td>\n",
              "      <td>0.239889</td>\n",
              "      <td>0.596291</td>\n",
              "      <td>0.266194</td>\n",
              "      <td>0.606808</td>\n",
              "      <td>0.286142</td>\n",
              "      <td>0.621172</td>\n",
              "      <td>0.290333</td>\n",
              "      <td>0.620753</td>\n",
              "      <td>0.270347</td>\n",
              "      <td>0.588289</td>\n",
              "      <td>0.268984</td>\n",
              "      <td>0.570931</td>\n",
              "      <td>0.268956</td>\n",
              "      <td>0.558453</td>\n",
              "      <td>0.266636</td>\n",
              "      <td>phone</td>\n",
              "    </tr>\n",
              "    <tr>\n",
              "      <th>97</th>\n",
              "      <td>0.674429</td>\n",
              "      <td>0.316494</td>\n",
              "      <td>0.664801</td>\n",
              "      <td>0.275031</td>\n",
              "      <td>0.651664</td>\n",
              "      <td>0.242776</td>\n",
              "      <td>0.639505</td>\n",
              "      <td>0.215721</td>\n",
              "      <td>0.634123</td>\n",
              "      <td>0.202888</td>\n",
              "      <td>0.634407</td>\n",
              "      <td>0.202581</td>\n",
              "      <td>0.599400</td>\n",
              "      <td>0.217261</td>\n",
              "      <td>0.606885</td>\n",
              "      <td>0.235816</td>\n",
              "      <td>0.620040</td>\n",
              "      <td>0.239181</td>\n",
              "      <td>0.630345</td>\n",
              "      <td>0.215528</td>\n",
              "      <td>0.596618</td>\n",
              "      <td>0.234056</td>\n",
              "      <td>0.606778</td>\n",
              "      <td>0.252641</td>\n",
              "      <td>0.620165</td>\n",
              "      <td>0.258044</td>\n",
              "      <td>0.625458</td>\n",
              "      <td>0.238140</td>\n",
              "      <td>0.593508</td>\n",
              "      <td>0.251984</td>\n",
              "      <td>0.604094</td>\n",
              "      <td>0.269418</td>\n",
              "      <td>0.618180</td>\n",
              "      <td>0.274140</td>\n",
              "      <td>0.621483</td>\n",
              "      <td>0.266584</td>\n",
              "      <td>0.588213</td>\n",
              "      <td>0.259751</td>\n",
              "      <td>0.569335</td>\n",
              "      <td>0.259373</td>\n",
              "      <td>0.554035</td>\n",
              "      <td>0.258261</td>\n",
              "      <td>phone</td>\n",
              "    </tr>\n",
              "    <tr>\n",
              "      <th>98</th>\n",
              "      <td>0.676051</td>\n",
              "      <td>0.319047</td>\n",
              "      <td>0.666725</td>\n",
              "      <td>0.276659</td>\n",
              "      <td>0.653652</td>\n",
              "      <td>0.245901</td>\n",
              "      <td>0.640884</td>\n",
              "      <td>0.217709</td>\n",
              "      <td>0.633945</td>\n",
              "      <td>0.204389</td>\n",
              "      <td>0.636449</td>\n",
              "      <td>0.204060</td>\n",
              "      <td>0.599932</td>\n",
              "      <td>0.216935</td>\n",
              "      <td>0.601582</td>\n",
              "      <td>0.238633</td>\n",
              "      <td>0.610478</td>\n",
              "      <td>0.246285</td>\n",
              "      <td>0.635404</td>\n",
              "      <td>0.215609</td>\n",
              "      <td>0.596375</td>\n",
              "      <td>0.232281</td>\n",
              "      <td>0.598999</td>\n",
              "      <td>0.255233</td>\n",
              "      <td>0.608265</td>\n",
              "      <td>0.264619</td>\n",
              "      <td>0.633382</td>\n",
              "      <td>0.236585</td>\n",
              "      <td>0.595247</td>\n",
              "      <td>0.248765</td>\n",
              "      <td>0.598597</td>\n",
              "      <td>0.270861</td>\n",
              "      <td>0.609042</td>\n",
              "      <td>0.280785</td>\n",
              "      <td>0.631458</td>\n",
              "      <td>0.264124</td>\n",
              "      <td>0.594552</td>\n",
              "      <td>0.258605</td>\n",
              "      <td>0.571803</td>\n",
              "      <td>0.259791</td>\n",
              "      <td>0.553346</td>\n",
              "      <td>0.259257</td>\n",
              "      <td>phone</td>\n",
              "    </tr>\n",
              "    <tr>\n",
              "      <th>99</th>\n",
              "      <td>0.663737</td>\n",
              "      <td>0.299703</td>\n",
              "      <td>0.656754</td>\n",
              "      <td>0.258314</td>\n",
              "      <td>0.644207</td>\n",
              "      <td>0.221963</td>\n",
              "      <td>0.635623</td>\n",
              "      <td>0.189557</td>\n",
              "      <td>0.634767</td>\n",
              "      <td>0.169757</td>\n",
              "      <td>0.625974</td>\n",
              "      <td>0.190245</td>\n",
              "      <td>0.596731</td>\n",
              "      <td>0.201840</td>\n",
              "      <td>0.603032</td>\n",
              "      <td>0.221285</td>\n",
              "      <td>0.613495</td>\n",
              "      <td>0.227956</td>\n",
              "      <td>0.621783</td>\n",
              "      <td>0.200337</td>\n",
              "      <td>0.593150</td>\n",
              "      <td>0.216438</td>\n",
              "      <td>0.603866</td>\n",
              "      <td>0.237453</td>\n",
              "      <td>0.616033</td>\n",
              "      <td>0.244189</td>\n",
              "      <td>0.618016</td>\n",
              "      <td>0.219073</td>\n",
              "      <td>0.591311</td>\n",
              "      <td>0.233972</td>\n",
              "      <td>0.602967</td>\n",
              "      <td>0.255559</td>\n",
              "      <td>0.616255</td>\n",
              "      <td>0.262068</td>\n",
              "      <td>0.614407</td>\n",
              "      <td>0.243520</td>\n",
              "      <td>0.580330</td>\n",
              "      <td>0.231325</td>\n",
              "      <td>0.561562</td>\n",
              "      <td>0.224208</td>\n",
              "      <td>0.545327</td>\n",
              "      <td>0.217738</td>\n",
              "      <td>phone</td>\n",
              "    </tr>\n",
              "  </tbody>\n",
              "</table>\n",
              "<p>100 rows × 43 columns</p>\n",
              "</div>"
            ],
            "text/plain": [
              "           0         1         2         3  ...        39        40        41     42\n",
              "0   0.699668  0.598541  0.711023  0.518234  ...  0.589681  0.656628  0.580746  phone\n",
              "1   0.673724  0.327910  0.663437  0.283490  ...  0.293071  0.581259  0.296960  phone\n",
              "2   0.676210  0.324927  0.664404  0.278237  ...  0.289339  0.579166  0.290419  phone\n",
              "3   0.677098  0.325973  0.666078  0.276917  ...  0.288503  0.586773  0.290987  phone\n",
              "4   0.675773  0.318916  0.664934  0.272766  ...  0.287761  0.583874  0.289612  phone\n",
              "..       ...       ...       ...       ...  ...       ...       ...       ...    ...\n",
              "95  0.674646  0.315296  0.660923  0.267675  ...  0.273318  0.557651  0.272598  phone\n",
              "96  0.674171  0.311889  0.662198  0.268236  ...  0.268956  0.558453  0.266636  phone\n",
              "97  0.674429  0.316494  0.664801  0.275031  ...  0.259373  0.554035  0.258261  phone\n",
              "98  0.676051  0.319047  0.666725  0.276659  ...  0.259791  0.553346  0.259257  phone\n",
              "99  0.663737  0.299703  0.656754  0.258314  ...  0.224208  0.545327  0.217738  phone\n",
              "\n",
              "[100 rows x 43 columns]"
            ]
          },
          "metadata": {
            "tags": []
          },
          "execution_count": 4
        }
      ]
    },
    {
      "cell_type": "code",
      "metadata": {
        "id": "_nhC6FwMkobR",
        "colab": {
          "base_uri": "https://localhost:8080/"
        },
        "outputId": "38454280-718f-4545-dcf6-6e8554804ae2"
      },
      "source": [
        "le = LabelEncoder() \n",
        "df_comb['42']= le.fit_transform(df_comb['42']) \n",
        "df_comb['42']"
      ],
      "execution_count": null,
      "outputs": [
        {
          "output_type": "execute_result",
          "data": {
            "text/plain": [
              "0       5\n",
              "1       5\n",
              "2       5\n",
              "3       5\n",
              "4       5\n",
              "       ..\n",
              "1059    8\n",
              "1060    8\n",
              "1061    8\n",
              "1062    8\n",
              "1063    8\n",
              "Name: 42, Length: 1064, dtype: int64"
            ]
          },
          "metadata": {
            "tags": []
          },
          "execution_count": 5
        }
      ]
    },
    {
      "cell_type": "code",
      "metadata": {
        "colab": {
          "base_uri": "https://localhost:8080/"
        },
        "id": "K8BGNuO_wx2H",
        "outputId": "eec57f4f-027b-4789-839d-d5f8bf625326"
      },
      "source": [
        "le.classes_"
      ],
      "execution_count": null,
      "outputs": [
        {
          "output_type": "execute_result",
          "data": {
            "text/plain": [
              "array(['bed', 'boring', 'easter', 'library', 'like', 'phone', 'rainbow',\n",
              "       'some', 'sorry', 'thank you', 'white', 'yesterday'], dtype=object)"
            ]
          },
          "metadata": {
            "tags": []
          },
          "execution_count": 6
        }
      ]
    },
    {
      "cell_type": "code",
      "metadata": {
        "colab": {
          "base_uri": "https://localhost:8080/"
        },
        "id": "V7JmNS3I774o",
        "outputId": "3d099855-64be-4f88-d814-9da247e1371b"
      },
      "source": [
        "df[42][16]"
      ],
      "execution_count": null,
      "outputs": [
        {
          "output_type": "execute_result",
          "data": {
            "text/plain": [
              "1"
            ]
          },
          "metadata": {
            "tags": []
          },
          "execution_count": 28
        }
      ]
    },
    {
      "cell_type": "code",
      "metadata": {
        "id": "myM6Cvi9gypw"
      },
      "source": [
        "X=df_comb.loc[:, df_comb.columns != 42]\n",
        "y=df_comb.loc[:,'42']"
      ],
      "execution_count": null,
      "outputs": []
    },
    {
      "cell_type": "code",
      "metadata": {
        "colab": {
          "base_uri": "https://localhost:8080/",
          "height": 422
        },
        "id": "60JW0Gtfo14S",
        "outputId": "4effe1bc-c6b9-44af-ec50-baffabf5594d"
      },
      "source": [
        "X"
      ],
      "execution_count": null,
      "outputs": [
        {
          "output_type": "execute_result",
          "data": {
            "text/html": [
              "<div>\n",
              "<style scoped>\n",
              "    .dataframe tbody tr th:only-of-type {\n",
              "        vertical-align: middle;\n",
              "    }\n",
              "\n",
              "    .dataframe tbody tr th {\n",
              "        vertical-align: top;\n",
              "    }\n",
              "\n",
              "    .dataframe thead th {\n",
              "        text-align: right;\n",
              "    }\n",
              "</style>\n",
              "<table border=\"1\" class=\"dataframe\">\n",
              "  <thead>\n",
              "    <tr style=\"text-align: right;\">\n",
              "      <th></th>\n",
              "      <th>0</th>\n",
              "      <th>1</th>\n",
              "      <th>2</th>\n",
              "      <th>3</th>\n",
              "      <th>4</th>\n",
              "      <th>5</th>\n",
              "      <th>6</th>\n",
              "      <th>7</th>\n",
              "      <th>8</th>\n",
              "      <th>9</th>\n",
              "      <th>10</th>\n",
              "      <th>11</th>\n",
              "      <th>12</th>\n",
              "      <th>13</th>\n",
              "      <th>14</th>\n",
              "      <th>15</th>\n",
              "      <th>16</th>\n",
              "      <th>17</th>\n",
              "      <th>18</th>\n",
              "      <th>19</th>\n",
              "      <th>20</th>\n",
              "      <th>21</th>\n",
              "      <th>22</th>\n",
              "      <th>23</th>\n",
              "      <th>24</th>\n",
              "      <th>25</th>\n",
              "      <th>26</th>\n",
              "      <th>27</th>\n",
              "      <th>28</th>\n",
              "      <th>29</th>\n",
              "      <th>30</th>\n",
              "      <th>31</th>\n",
              "      <th>32</th>\n",
              "      <th>33</th>\n",
              "      <th>34</th>\n",
              "      <th>35</th>\n",
              "      <th>36</th>\n",
              "      <th>37</th>\n",
              "      <th>38</th>\n",
              "      <th>39</th>\n",
              "      <th>40</th>\n",
              "      <th>41</th>\n",
              "      <th>42</th>\n",
              "    </tr>\n",
              "  </thead>\n",
              "  <tbody>\n",
              "    <tr>\n",
              "      <th>0</th>\n",
              "      <td>0.699668</td>\n",
              "      <td>0.598541</td>\n",
              "      <td>0.711023</td>\n",
              "      <td>0.518234</td>\n",
              "      <td>0.724348</td>\n",
              "      <td>0.457568</td>\n",
              "      <td>0.732859</td>\n",
              "      <td>0.412622</td>\n",
              "      <td>0.735910</td>\n",
              "      <td>0.366709</td>\n",
              "      <td>0.757858</td>\n",
              "      <td>0.505174</td>\n",
              "      <td>0.738335</td>\n",
              "      <td>0.474635</td>\n",
              "      <td>0.710606</td>\n",
              "      <td>0.459089</td>\n",
              "      <td>0.693449</td>\n",
              "      <td>0.447280</td>\n",
              "      <td>0.751379</td>\n",
              "      <td>0.556947</td>\n",
              "      <td>0.713902</td>\n",
              "      <td>0.516596</td>\n",
              "      <td>0.682875</td>\n",
              "      <td>0.488810</td>\n",
              "      <td>0.665112</td>\n",
              "      <td>0.471738</td>\n",
              "      <td>0.736462</td>\n",
              "      <td>0.603074</td>\n",
              "      <td>0.697950</td>\n",
              "      <td>0.565541</td>\n",
              "      <td>0.670673</td>\n",
              "      <td>0.539903</td>\n",
              "      <td>0.654794</td>\n",
              "      <td>0.527246</td>\n",
              "      <td>0.717956</td>\n",
              "      <td>0.641573</td>\n",
              "      <td>0.688474</td>\n",
              "      <td>0.609738</td>\n",
              "      <td>0.670096</td>\n",
              "      <td>0.589681</td>\n",
              "      <td>0.656628</td>\n",
              "      <td>0.580746</td>\n",
              "      <td>5</td>\n",
              "    </tr>\n",
              "    <tr>\n",
              "      <th>1</th>\n",
              "      <td>0.673724</td>\n",
              "      <td>0.327910</td>\n",
              "      <td>0.663437</td>\n",
              "      <td>0.283490</td>\n",
              "      <td>0.648666</td>\n",
              "      <td>0.249689</td>\n",
              "      <td>0.636888</td>\n",
              "      <td>0.220993</td>\n",
              "      <td>0.633543</td>\n",
              "      <td>0.197429</td>\n",
              "      <td>0.632804</td>\n",
              "      <td>0.229234</td>\n",
              "      <td>0.605002</td>\n",
              "      <td>0.238324</td>\n",
              "      <td>0.601950</td>\n",
              "      <td>0.253614</td>\n",
              "      <td>0.604633</td>\n",
              "      <td>0.261808</td>\n",
              "      <td>0.629057</td>\n",
              "      <td>0.240415</td>\n",
              "      <td>0.601492</td>\n",
              "      <td>0.263202</td>\n",
              "      <td>0.603972</td>\n",
              "      <td>0.278508</td>\n",
              "      <td>0.610892</td>\n",
              "      <td>0.282781</td>\n",
              "      <td>0.625758</td>\n",
              "      <td>0.261072</td>\n",
              "      <td>0.601441</td>\n",
              "      <td>0.279269</td>\n",
              "      <td>0.605977</td>\n",
              "      <td>0.293489</td>\n",
              "      <td>0.614813</td>\n",
              "      <td>0.298133</td>\n",
              "      <td>0.623877</td>\n",
              "      <td>0.286915</td>\n",
              "      <td>0.599319</td>\n",
              "      <td>0.287267</td>\n",
              "      <td>0.587812</td>\n",
              "      <td>0.293071</td>\n",
              "      <td>0.581259</td>\n",
              "      <td>0.296960</td>\n",
              "      <td>5</td>\n",
              "    </tr>\n",
              "    <tr>\n",
              "      <th>2</th>\n",
              "      <td>0.676210</td>\n",
              "      <td>0.324927</td>\n",
              "      <td>0.664404</td>\n",
              "      <td>0.278237</td>\n",
              "      <td>0.649254</td>\n",
              "      <td>0.245659</td>\n",
              "      <td>0.637734</td>\n",
              "      <td>0.215539</td>\n",
              "      <td>0.635429</td>\n",
              "      <td>0.188543</td>\n",
              "      <td>0.632403</td>\n",
              "      <td>0.227967</td>\n",
              "      <td>0.606003</td>\n",
              "      <td>0.235843</td>\n",
              "      <td>0.603559</td>\n",
              "      <td>0.249284</td>\n",
              "      <td>0.606467</td>\n",
              "      <td>0.257006</td>\n",
              "      <td>0.629629</td>\n",
              "      <td>0.239657</td>\n",
              "      <td>0.602795</td>\n",
              "      <td>0.262991</td>\n",
              "      <td>0.606768</td>\n",
              "      <td>0.275963</td>\n",
              "      <td>0.614750</td>\n",
              "      <td>0.279932</td>\n",
              "      <td>0.627942</td>\n",
              "      <td>0.261511</td>\n",
              "      <td>0.604015</td>\n",
              "      <td>0.280641</td>\n",
              "      <td>0.610649</td>\n",
              "      <td>0.293936</td>\n",
              "      <td>0.620717</td>\n",
              "      <td>0.298412</td>\n",
              "      <td>0.628288</td>\n",
              "      <td>0.287906</td>\n",
              "      <td>0.602468</td>\n",
              "      <td>0.287714</td>\n",
              "      <td>0.588695</td>\n",
              "      <td>0.289339</td>\n",
              "      <td>0.579166</td>\n",
              "      <td>0.290419</td>\n",
              "      <td>5</td>\n",
              "    </tr>\n",
              "    <tr>\n",
              "      <th>3</th>\n",
              "      <td>0.677098</td>\n",
              "      <td>0.325973</td>\n",
              "      <td>0.666078</td>\n",
              "      <td>0.276917</td>\n",
              "      <td>0.650324</td>\n",
              "      <td>0.243135</td>\n",
              "      <td>0.638877</td>\n",
              "      <td>0.214663</td>\n",
              "      <td>0.635539</td>\n",
              "      <td>0.189242</td>\n",
              "      <td>0.636283</td>\n",
              "      <td>0.228602</td>\n",
              "      <td>0.612383</td>\n",
              "      <td>0.231424</td>\n",
              "      <td>0.604296</td>\n",
              "      <td>0.240305</td>\n",
              "      <td>0.600724</td>\n",
              "      <td>0.247890</td>\n",
              "      <td>0.633267</td>\n",
              "      <td>0.241605</td>\n",
              "      <td>0.607772</td>\n",
              "      <td>0.256355</td>\n",
              "      <td>0.605658</td>\n",
              "      <td>0.267598</td>\n",
              "      <td>0.608837</td>\n",
              "      <td>0.274657</td>\n",
              "      <td>0.631199</td>\n",
              "      <td>0.262613</td>\n",
              "      <td>0.607498</td>\n",
              "      <td>0.272684</td>\n",
              "      <td>0.608511</td>\n",
              "      <td>0.283744</td>\n",
              "      <td>0.614338</td>\n",
              "      <td>0.291720</td>\n",
              "      <td>0.630723</td>\n",
              "      <td>0.287593</td>\n",
              "      <td>0.607365</td>\n",
              "      <td>0.286390</td>\n",
              "      <td>0.594817</td>\n",
              "      <td>0.288503</td>\n",
              "      <td>0.586773</td>\n",
              "      <td>0.290987</td>\n",
              "      <td>5</td>\n",
              "    </tr>\n",
              "    <tr>\n",
              "      <th>4</th>\n",
              "      <td>0.675773</td>\n",
              "      <td>0.318916</td>\n",
              "      <td>0.664934</td>\n",
              "      <td>0.272766</td>\n",
              "      <td>0.649632</td>\n",
              "      <td>0.240695</td>\n",
              "      <td>0.639143</td>\n",
              "      <td>0.212163</td>\n",
              "      <td>0.636871</td>\n",
              "      <td>0.187047</td>\n",
              "      <td>0.634783</td>\n",
              "      <td>0.227833</td>\n",
              "      <td>0.610734</td>\n",
              "      <td>0.235731</td>\n",
              "      <td>0.605143</td>\n",
              "      <td>0.246063</td>\n",
              "      <td>0.604335</td>\n",
              "      <td>0.253448</td>\n",
              "      <td>0.631717</td>\n",
              "      <td>0.240038</td>\n",
              "      <td>0.605976</td>\n",
              "      <td>0.257019</td>\n",
              "      <td>0.604894</td>\n",
              "      <td>0.269003</td>\n",
              "      <td>0.609192</td>\n",
              "      <td>0.276333</td>\n",
              "      <td>0.629802</td>\n",
              "      <td>0.261055</td>\n",
              "      <td>0.605363</td>\n",
              "      <td>0.273110</td>\n",
              "      <td>0.607209</td>\n",
              "      <td>0.285562</td>\n",
              "      <td>0.613930</td>\n",
              "      <td>0.293198</td>\n",
              "      <td>0.629563</td>\n",
              "      <td>0.285660</td>\n",
              "      <td>0.604947</td>\n",
              "      <td>0.285042</td>\n",
              "      <td>0.592130</td>\n",
              "      <td>0.287761</td>\n",
              "      <td>0.583874</td>\n",
              "      <td>0.289612</td>\n",
              "      <td>5</td>\n",
              "    </tr>\n",
              "    <tr>\n",
              "      <th>...</th>\n",
              "      <td>...</td>\n",
              "      <td>...</td>\n",
              "      <td>...</td>\n",
              "      <td>...</td>\n",
              "      <td>...</td>\n",
              "      <td>...</td>\n",
              "      <td>...</td>\n",
              "      <td>...</td>\n",
              "      <td>...</td>\n",
              "      <td>...</td>\n",
              "      <td>...</td>\n",
              "      <td>...</td>\n",
              "      <td>...</td>\n",
              "      <td>...</td>\n",
              "      <td>...</td>\n",
              "      <td>...</td>\n",
              "      <td>...</td>\n",
              "      <td>...</td>\n",
              "      <td>...</td>\n",
              "      <td>...</td>\n",
              "      <td>...</td>\n",
              "      <td>...</td>\n",
              "      <td>...</td>\n",
              "      <td>...</td>\n",
              "      <td>...</td>\n",
              "      <td>...</td>\n",
              "      <td>...</td>\n",
              "      <td>...</td>\n",
              "      <td>...</td>\n",
              "      <td>...</td>\n",
              "      <td>...</td>\n",
              "      <td>...</td>\n",
              "      <td>...</td>\n",
              "      <td>...</td>\n",
              "      <td>...</td>\n",
              "      <td>...</td>\n",
              "      <td>...</td>\n",
              "      <td>...</td>\n",
              "      <td>...</td>\n",
              "      <td>...</td>\n",
              "      <td>...</td>\n",
              "      <td>...</td>\n",
              "      <td>...</td>\n",
              "    </tr>\n",
              "    <tr>\n",
              "      <th>1059</th>\n",
              "      <td>0.487059</td>\n",
              "      <td>0.813335</td>\n",
              "      <td>0.472268</td>\n",
              "      <td>0.743899</td>\n",
              "      <td>0.442376</td>\n",
              "      <td>0.713488</td>\n",
              "      <td>0.417266</td>\n",
              "      <td>0.706413</td>\n",
              "      <td>0.401356</td>\n",
              "      <td>0.696768</td>\n",
              "      <td>0.406277</td>\n",
              "      <td>0.736946</td>\n",
              "      <td>0.392511</td>\n",
              "      <td>0.715237</td>\n",
              "      <td>0.406482</td>\n",
              "      <td>0.710575</td>\n",
              "      <td>0.417358</td>\n",
              "      <td>0.715989</td>\n",
              "      <td>0.403623</td>\n",
              "      <td>0.774472</td>\n",
              "      <td>0.397232</td>\n",
              "      <td>0.747153</td>\n",
              "      <td>0.411032</td>\n",
              "      <td>0.739174</td>\n",
              "      <td>0.421842</td>\n",
              "      <td>0.742791</td>\n",
              "      <td>0.408900</td>\n",
              "      <td>0.809554</td>\n",
              "      <td>0.404477</td>\n",
              "      <td>0.778922</td>\n",
              "      <td>0.416607</td>\n",
              "      <td>0.769453</td>\n",
              "      <td>0.427840</td>\n",
              "      <td>0.775570</td>\n",
              "      <td>0.417114</td>\n",
              "      <td>0.840326</td>\n",
              "      <td>0.412795</td>\n",
              "      <td>0.813587</td>\n",
              "      <td>0.422022</td>\n",
              "      <td>0.803889</td>\n",
              "      <td>0.431611</td>\n",
              "      <td>0.808070</td>\n",
              "      <td>8</td>\n",
              "    </tr>\n",
              "    <tr>\n",
              "      <th>1060</th>\n",
              "      <td>0.493334</td>\n",
              "      <td>0.823400</td>\n",
              "      <td>0.476273</td>\n",
              "      <td>0.764400</td>\n",
              "      <td>0.443279</td>\n",
              "      <td>0.735926</td>\n",
              "      <td>0.418391</td>\n",
              "      <td>0.730717</td>\n",
              "      <td>0.403255</td>\n",
              "      <td>0.719310</td>\n",
              "      <td>0.410876</td>\n",
              "      <td>0.750774</td>\n",
              "      <td>0.375018</td>\n",
              "      <td>0.746660</td>\n",
              "      <td>0.357801</td>\n",
              "      <td>0.743024</td>\n",
              "      <td>0.346354</td>\n",
              "      <td>0.743306</td>\n",
              "      <td>0.410393</td>\n",
              "      <td>0.789506</td>\n",
              "      <td>0.392833</td>\n",
              "      <td>0.775930</td>\n",
              "      <td>0.402341</td>\n",
              "      <td>0.769229</td>\n",
              "      <td>0.410422</td>\n",
              "      <td>0.766612</td>\n",
              "      <td>0.416971</td>\n",
              "      <td>0.825429</td>\n",
              "      <td>0.405884</td>\n",
              "      <td>0.805833</td>\n",
              "      <td>0.419842</td>\n",
              "      <td>0.798164</td>\n",
              "      <td>0.431838</td>\n",
              "      <td>0.798841</td>\n",
              "      <td>0.425230</td>\n",
              "      <td>0.858734</td>\n",
              "      <td>0.416421</td>\n",
              "      <td>0.837918</td>\n",
              "      <td>0.425398</td>\n",
              "      <td>0.826696</td>\n",
              "      <td>0.434592</td>\n",
              "      <td>0.824684</td>\n",
              "      <td>8</td>\n",
              "    </tr>\n",
              "    <tr>\n",
              "      <th>1061</th>\n",
              "      <td>0.517245</td>\n",
              "      <td>0.842597</td>\n",
              "      <td>0.492911</td>\n",
              "      <td>0.777368</td>\n",
              "      <td>0.461207</td>\n",
              "      <td>0.750149</td>\n",
              "      <td>0.436415</td>\n",
              "      <td>0.745434</td>\n",
              "      <td>0.422374</td>\n",
              "      <td>0.743790</td>\n",
              "      <td>0.435426</td>\n",
              "      <td>0.771733</td>\n",
              "      <td>0.412145</td>\n",
              "      <td>0.757338</td>\n",
              "      <td>0.424299</td>\n",
              "      <td>0.757800</td>\n",
              "      <td>0.437943</td>\n",
              "      <td>0.762565</td>\n",
              "      <td>0.434141</td>\n",
              "      <td>0.811105</td>\n",
              "      <td>0.416436</td>\n",
              "      <td>0.795934</td>\n",
              "      <td>0.428333</td>\n",
              "      <td>0.792826</td>\n",
              "      <td>0.440412</td>\n",
              "      <td>0.795031</td>\n",
              "      <td>0.438573</td>\n",
              "      <td>0.847576</td>\n",
              "      <td>0.424675</td>\n",
              "      <td>0.827769</td>\n",
              "      <td>0.435140</td>\n",
              "      <td>0.820957</td>\n",
              "      <td>0.447447</td>\n",
              "      <td>0.824968</td>\n",
              "      <td>0.445391</td>\n",
              "      <td>0.879665</td>\n",
              "      <td>0.433257</td>\n",
              "      <td>0.859122</td>\n",
              "      <td>0.442435</td>\n",
              "      <td>0.851267</td>\n",
              "      <td>0.453384</td>\n",
              "      <td>0.853340</td>\n",
              "      <td>8</td>\n",
              "    </tr>\n",
              "    <tr>\n",
              "      <th>1062</th>\n",
              "      <td>0.559695</td>\n",
              "      <td>0.829520</td>\n",
              "      <td>0.541998</td>\n",
              "      <td>0.779711</td>\n",
              "      <td>0.513714</td>\n",
              "      <td>0.753029</td>\n",
              "      <td>0.489526</td>\n",
              "      <td>0.742885</td>\n",
              "      <td>0.474691</td>\n",
              "      <td>0.736053</td>\n",
              "      <td>0.496847</td>\n",
              "      <td>0.748931</td>\n",
              "      <td>0.461139</td>\n",
              "      <td>0.756573</td>\n",
              "      <td>0.466573</td>\n",
              "      <td>0.772829</td>\n",
              "      <td>0.478167</td>\n",
              "      <td>0.778492</td>\n",
              "      <td>0.493102</td>\n",
              "      <td>0.780056</td>\n",
              "      <td>0.463238</td>\n",
              "      <td>0.796613</td>\n",
              "      <td>0.473907</td>\n",
              "      <td>0.807142</td>\n",
              "      <td>0.486907</td>\n",
              "      <td>0.805094</td>\n",
              "      <td>0.493661</td>\n",
              "      <td>0.819061</td>\n",
              "      <td>0.470769</td>\n",
              "      <td>0.830808</td>\n",
              "      <td>0.481018</td>\n",
              "      <td>0.837689</td>\n",
              "      <td>0.491535</td>\n",
              "      <td>0.837030</td>\n",
              "      <td>0.496832</td>\n",
              "      <td>0.858565</td>\n",
              "      <td>0.479606</td>\n",
              "      <td>0.862263</td>\n",
              "      <td>0.489411</td>\n",
              "      <td>0.863846</td>\n",
              "      <td>0.498560</td>\n",
              "      <td>0.862199</td>\n",
              "      <td>8</td>\n",
              "    </tr>\n",
              "    <tr>\n",
              "      <th>1063</th>\n",
              "      <td>0.517347</td>\n",
              "      <td>0.804994</td>\n",
              "      <td>0.513012</td>\n",
              "      <td>0.761029</td>\n",
              "      <td>0.513822</td>\n",
              "      <td>0.735071</td>\n",
              "      <td>0.501882</td>\n",
              "      <td>0.716805</td>\n",
              "      <td>0.482621</td>\n",
              "      <td>0.703205</td>\n",
              "      <td>0.574943</td>\n",
              "      <td>0.761767</td>\n",
              "      <td>0.580366</td>\n",
              "      <td>0.760616</td>\n",
              "      <td>0.575019</td>\n",
              "      <td>0.760142</td>\n",
              "      <td>0.571758</td>\n",
              "      <td>0.759155</td>\n",
              "      <td>0.583068</td>\n",
              "      <td>0.797956</td>\n",
              "      <td>0.572452</td>\n",
              "      <td>0.793467</td>\n",
              "      <td>0.554646</td>\n",
              "      <td>0.788065</td>\n",
              "      <td>0.542221</td>\n",
              "      <td>0.783630</td>\n",
              "      <td>0.579751</td>\n",
              "      <td>0.828981</td>\n",
              "      <td>0.568851</td>\n",
              "      <td>0.821743</td>\n",
              "      <td>0.553829</td>\n",
              "      <td>0.816983</td>\n",
              "      <td>0.541413</td>\n",
              "      <td>0.815295</td>\n",
              "      <td>0.571729</td>\n",
              "      <td>0.856615</td>\n",
              "      <td>0.565107</td>\n",
              "      <td>0.850067</td>\n",
              "      <td>0.553087</td>\n",
              "      <td>0.845698</td>\n",
              "      <td>0.543594</td>\n",
              "      <td>0.843184</td>\n",
              "      <td>8</td>\n",
              "    </tr>\n",
              "  </tbody>\n",
              "</table>\n",
              "<p>1064 rows × 43 columns</p>\n",
              "</div>"
            ],
            "text/plain": [
              "             0         1         2         3  ...        39        40        41  42\n",
              "0     0.699668  0.598541  0.711023  0.518234  ...  0.589681  0.656628  0.580746   5\n",
              "1     0.673724  0.327910  0.663437  0.283490  ...  0.293071  0.581259  0.296960   5\n",
              "2     0.676210  0.324927  0.664404  0.278237  ...  0.289339  0.579166  0.290419   5\n",
              "3     0.677098  0.325973  0.666078  0.276917  ...  0.288503  0.586773  0.290987   5\n",
              "4     0.675773  0.318916  0.664934  0.272766  ...  0.287761  0.583874  0.289612   5\n",
              "...        ...       ...       ...       ...  ...       ...       ...       ...  ..\n",
              "1059  0.487059  0.813335  0.472268  0.743899  ...  0.803889  0.431611  0.808070   8\n",
              "1060  0.493334  0.823400  0.476273  0.764400  ...  0.826696  0.434592  0.824684   8\n",
              "1061  0.517245  0.842597  0.492911  0.777368  ...  0.851267  0.453384  0.853340   8\n",
              "1062  0.559695  0.829520  0.541998  0.779711  ...  0.863846  0.498560  0.862199   8\n",
              "1063  0.517347  0.804994  0.513012  0.761029  ...  0.845698  0.543594  0.843184   8\n",
              "\n",
              "[1064 rows x 43 columns]"
            ]
          },
          "metadata": {
            "tags": []
          },
          "execution_count": 11
        }
      ]
    },
    {
      "cell_type": "code",
      "metadata": {
        "id": "0zhBHpxRo5Mz",
        "colab": {
          "base_uri": "https://localhost:8080/"
        },
        "outputId": "1b17ef82-abaa-4258-d63e-f55824d3faa2"
      },
      "source": [
        "y"
      ],
      "execution_count": null,
      "outputs": [
        {
          "output_type": "execute_result",
          "data": {
            "text/plain": [
              "0       5\n",
              "1       5\n",
              "2       5\n",
              "3       5\n",
              "4       5\n",
              "       ..\n",
              "1059    8\n",
              "1060    8\n",
              "1061    8\n",
              "1062    8\n",
              "1063    8\n",
              "Name: 42, Length: 1064, dtype: int64"
            ]
          },
          "metadata": {
            "tags": []
          },
          "execution_count": 12
        }
      ]
    },
    {
      "cell_type": "code",
      "metadata": {
        "id": "9tEDdOFzjS-q"
      },
      "source": [
        "X_train, X_test, y_train, y_test = train_test_split(X, y, test_size=0.20,random_state=42)"
      ],
      "execution_count": null,
      "outputs": []
    },
    {
      "cell_type": "code",
      "metadata": {
        "id": "cMIPDcgumF5s"
      },
      "source": [
        "from sklearn.ensemble import RandomForestClassifier\n",
        "clf=RandomForestClassifier(n_estimators=50, random_state=0)\n",
        "#clf.fit(X_train,y_train)"
      ],
      "execution_count": null,
      "outputs": []
    },
    {
      "cell_type": "code",
      "metadata": {
        "id": "CCC9UlsMo_Wr"
      },
      "source": [
        " from sklearn.model_selection import GridSearchCV\n",
        "param_grid = { \n",
        "    'n_estimators': [200, 300,400,500],\n",
        "    'max_features': ['auto', 'sqrt', 'log2'],\n",
        "    'criterion':['gini','entropy'],\n",
        "    'max_depth':[2,4,6,8],\n",
        "    'min_samples_leaf':[2,4,6]\n",
        "    \n",
        "}\n",
        "\n",
        "CV_rfc = GridSearchCV(estimator=clf, param_grid=param_grid, cv= 5)\n",
        "#CV_rfc.fit(X_train, y_train)"
      ],
      "execution_count": null,
      "outputs": []
    },
    {
      "cell_type": "code",
      "metadata": {
        "colab": {
          "base_uri": "https://localhost:8080/"
        },
        "id": "YUT_LjpZqg10",
        "outputId": "71857ce2-dd76-45de-9c0f-6271b9f419ce"
      },
      "source": [
        "clf.fit(X_train, y_train)"
      ],
      "execution_count": null,
      "outputs": [
        {
          "output_type": "execute_result",
          "data": {
            "text/plain": [
              "RandomForestClassifier(bootstrap=True, ccp_alpha=0.0, class_weight=None,\n",
              "                       criterion='gini', max_depth=None, max_features='auto',\n",
              "                       max_leaf_nodes=None, max_samples=None,\n",
              "                       min_impurity_decrease=0.0, min_impurity_split=None,\n",
              "                       min_samples_leaf=1, min_samples_split=2,\n",
              "                       min_weight_fraction_leaf=0.0, n_estimators=50,\n",
              "                       n_jobs=None, oob_score=False, random_state=0, verbose=0,\n",
              "                       warm_start=False)"
            ]
          },
          "metadata": {
            "tags": []
          },
          "execution_count": 15
        }
      ]
    },
    {
      "cell_type": "code",
      "metadata": {
        "id": "31CZfClPmPrp"
      },
      "source": [
        "y_pred=clf.predict(X_test)"
      ],
      "execution_count": null,
      "outputs": []
    },
    {
      "cell_type": "code",
      "metadata": {
        "colab": {
          "base_uri": "https://localhost:8080/"
        },
        "id": "V8RGjkN7m6o_",
        "outputId": "86bbca11-24d7-4fd8-c0f8-e8526093490a"
      },
      "source": [
        "y_pred"
      ],
      "execution_count": null,
      "outputs": [
        {
          "output_type": "execute_result",
          "data": {
            "text/plain": [
              "array([ 5,  4,  6,  1, 11,  3,  3,  7,  5,  6,  5,  9,  0,  6,  5,  9,  1,\n",
              "        7,  4,  6, 11,  2,  6,  1,  7,  6,  2,  5,  6,  6,  7,  5,  3,  2,\n",
              "       11,  5,  1,  7,  1,  5,  6,  0,  5,  1,  1,  2, 10,  2,  9,  7,  5,\n",
              "        7,  5,  5,  1,  9,  5,  1,  2,  7,  5,  2,  1,  5, 11,  7,  2,  2,\n",
              "        5,  1,  3,  1,  5,  5,  2,  7,  1,  3,  1,  5,  7, 11,  5,  2,  5,\n",
              "        6,  5,  7,  5,  5,  1,  5,  3, 11,  1,  2,  3,  5,  2,  5,  6,  6,\n",
              "        3,  5,  5,  5,  5,  5,  6,  6,  1,  3, 11,  6,  1,  5,  5,  5,  1,\n",
              "        9,  5, 10,  5,  5,  1,  8,  5,  3,  4,  4,  5,  5,  7,  5,  4, 10,\n",
              "        7, 11,  5,  5, 11, 11,  2,  1,  5,  6,  5,  5,  7,  6,  5,  1,  5,\n",
              "        5,  5,  6,  5,  5,  1,  3,  7,  5,  9,  5,  6,  5, 10,  5,  0, 11,\n",
              "        7,  6,  5,  1,  6,  7,  5,  6,  6,  1,  5,  5,  5,  6,  3,  1,  5,\n",
              "        5,  0, 11,  2,  2,  3,  3,  7,  2,  4,  6, 11, 10,  2,  4,  1,  3,\n",
              "        7, 10,  2,  5,  3,  5,  5,  0,  5])"
            ]
          },
          "metadata": {
            "tags": []
          },
          "execution_count": 17
        }
      ]
    },
    {
      "cell_type": "code",
      "metadata": {
        "colab": {
          "base_uri": "https://localhost:8080/"
        },
        "id": "QAAgS4yKnjh2",
        "outputId": "a0bef80d-d03c-486a-f619-33c60718b0f3"
      },
      "source": [
        "y_test.shape"
      ],
      "execution_count": null,
      "outputs": [
        {
          "output_type": "execute_result",
          "data": {
            "text/plain": [
              "(213,)"
            ]
          },
          "metadata": {
            "tags": []
          },
          "execution_count": 18
        }
      ]
    },
    {
      "cell_type": "code",
      "metadata": {
        "colab": {
          "base_uri": "https://localhost:8080/"
        },
        "id": "9Foq77penEIE",
        "outputId": "174ac839-c17d-4c8f-f2ce-791f480efcfb"
      },
      "source": [
        "from sklearn.metrics import confusion_matrix\n",
        "confusion_matrix(y_test,y_pred)"
      ],
      "execution_count": null,
      "outputs": [
        {
          "output_type": "execute_result",
          "data": {
            "text/plain": [
              "array([[ 5,  0,  0,  0,  0,  0,  0,  0,  0,  0,  0,  0],\n",
              "       [ 0, 27,  0,  0,  0,  0,  0,  0,  0,  0,  0,  0],\n",
              "       [ 0,  0, 19,  0,  0,  0,  0,  0,  0,  0,  0,  0],\n",
              "       [ 0,  0,  0, 16,  0,  0,  0,  0,  0,  0,  0,  0],\n",
              "       [ 0,  0,  0,  0,  7,  0,  0,  0,  0,  0,  0,  0],\n",
              "       [ 0,  0,  0,  0,  0, 68,  0,  0,  0,  0,  0,  0],\n",
              "       [ 0,  0,  0,  0,  0,  0, 25,  0,  0,  0,  0,  0],\n",
              "       [ 0,  0,  0,  0,  0,  0,  0, 20,  0,  0,  0,  0],\n",
              "       [ 0,  0,  0,  0,  0,  0,  0,  0,  1,  1,  0,  0],\n",
              "       [ 0,  0,  0,  0,  0,  0,  0,  0,  0,  5,  0,  0],\n",
              "       [ 0,  0,  0,  0,  0,  0,  0,  0,  0,  0,  6,  0],\n",
              "       [ 0,  0,  0,  0,  0,  0,  0,  0,  0,  0,  0, 13]])"
            ]
          },
          "metadata": {
            "tags": []
          },
          "execution_count": 19
        }
      ]
    },
    {
      "cell_type": "code",
      "metadata": {
        "colab": {
          "base_uri": "https://localhost:8080/"
        },
        "id": "R-cLxP0BnW5R",
        "outputId": "cfff8da0-65d6-42f5-8aee-914dd4cada6b"
      },
      "source": [
        "from sklearn.metrics import accuracy_score\n",
        "accuracy_score(y_test, y_pred) "
      ],
      "execution_count": null,
      "outputs": [
        {
          "output_type": "execute_result",
          "data": {
            "text/plain": [
              "0.9953051643192489"
            ]
          },
          "metadata": {
            "tags": []
          },
          "execution_count": 20
        }
      ]
    },
    {
      "cell_type": "code",
      "metadata": {
        "id": "TgRBZ2dHl7UX"
      },
      "source": [
        "filename = '/content/drive/MyDrive/asl/randomforestc_model_12_classes.sav'\n",
        "pickle.dump(clf, open(filename, 'wb'))"
      ],
      "execution_count": null,
      "outputs": []
    },
    {
      "cell_type": "code",
      "metadata": {
        "id": "eWLCgF6rmLZV"
      },
      "source": [
        "loaded_model = pickle.load(open(filename, 'rb'))"
      ],
      "execution_count": null,
      "outputs": []
    },
    {
      "cell_type": "code",
      "metadata": {
        "id": "0OXT_7hWmSBx"
      },
      "source": [
        "clf1=RandomForestClassifier(n_estimators=50, random_state=0)\n",
        "clf2=XGBClassifier(random_state =0)\n",
        "clf3=LGBMClassifier(random_state=0)\n",
        "clf4=SVC(gamma='auto')"
      ],
      "execution_count": null,
      "outputs": []
    },
    {
      "cell_type": "code",
      "metadata": {
        "id": "Vmp4nnL36v5Q"
      },
      "source": [
        "clf_lst=[]\n",
        "clf_lst.append(('RandomForest',clf1))\n",
        "clf_lst.append(('XGB',clf2))\n",
        "#clf_lst.append(('LGBM',clf3))\n",
        "clf_lst.append(('SVC',clf4))"
      ],
      "execution_count": null,
      "outputs": []
    },
    {
      "cell_type": "code",
      "metadata": {
        "id": "xZ2od-H86yqj"
      },
      "source": [
        "from sklearn import model_selection\n",
        "from sklearn.ensemble import VotingClassifier\n",
        "ensemble = VotingClassifier(clf_lst)\n",
        "ensemble.fit(X_train,y_train)\n",
        "y_pred=ensemble.predict(X_test)"
      ],
      "execution_count": null,
      "outputs": []
    },
    {
      "cell_type": "code",
      "metadata": {
        "colab": {
          "base_uri": "https://localhost:8080/"
        },
        "id": "EUJaZJfW63Rr",
        "outputId": "58e74448-5843-4d62-e5a6-25c27e2d93c2"
      },
      "source": [
        "from sklearn.metrics import accuracy_score\n",
        "accuracy_score(y_test, y_pred) "
      ],
      "execution_count": null,
      "outputs": [
        {
          "output_type": "execute_result",
          "data": {
            "text/plain": [
              "0.3181818181818182"
            ]
          },
          "metadata": {
            "tags": []
          },
          "execution_count": 34
        }
      ]
    },
    {
      "cell_type": "code",
      "metadata": {
        "colab": {
          "base_uri": "https://localhost:8080/"
        },
        "id": "IxLZ2obZ9iix",
        "outputId": "cea9a849-3f71-43bf-b425-641b8e143189"
      },
      "source": [
        "from sklearn.metrics import classification_report\n",
        "\n",
        "print(classification_report(y_test, y_pred))"
      ],
      "execution_count": null,
      "outputs": [
        {
          "output_type": "stream",
          "text": [
            "              precision    recall  f1-score   support\n",
            "\n",
            "           0       0.80      1.00      0.89         4\n",
            "           1       0.50      0.50      0.50         2\n",
            "           2       0.67      1.00      0.80         4\n",
            "           3       0.00      0.00      0.00         1\n",
            "           4       1.00      1.00      1.00         1\n",
            "           5       0.00      0.00      0.00         4\n",
            "           6       0.00      0.00      0.00         3\n",
            "           7       1.00      1.00      1.00         1\n",
            "           8       1.00      0.67      0.80         3\n",
            "\n",
            "    accuracy                           0.57        23\n",
            "   macro avg       0.55      0.57      0.55        23\n",
            "weighted avg       0.52      0.57      0.53        23\n",
            "\n"
          ],
          "name": "stdout"
        },
        {
          "output_type": "stream",
          "text": [
            "/usr/local/lib/python3.6/dist-packages/sklearn/metrics/_classification.py:1272: UndefinedMetricWarning: Precision and F-score are ill-defined and being set to 0.0 in labels with no predicted samples. Use `zero_division` parameter to control this behavior.\n",
            "  _warn_prf(average, modifier, msg_start, len(result))\n"
          ],
          "name": "stderr"
        }
      ]
    },
    {
      "cell_type": "markdown",
      "metadata": {
        "id": "Vhzo_Drv6oaW"
      },
      "source": [
        "**LSTM MODEL**"
      ]
    },
    {
      "cell_type": "code",
      "metadata": {
        "colab": {
          "base_uri": "https://localhost:8080/"
        },
        "id": "vJEwf7M86zir",
        "outputId": "5ccc3259-56ef-4273-d7a1-7810fa1b0e2a"
      },
      "source": [
        "stack=dstack(X_train)\r\n",
        "stack.shape"
      ],
      "execution_count": null,
      "outputs": [
        {
          "output_type": "execute_result",
          "data": {
            "text/plain": [
              "(1, 42, 265)"
            ]
          },
          "metadata": {
            "tags": []
          },
          "execution_count": 36
        }
      ]
    },
    {
      "cell_type": "code",
      "metadata": {
        "id": "sNtKrVzF7aWg"
      },
      "source": [
        "stacky=dstack(y_train)"
      ],
      "execution_count": null,
      "outputs": []
    },
    {
      "cell_type": "code",
      "metadata": {
        "id": "6OtPdY0CwQRB"
      },
      "source": [
        "X_train=X_train.to_numpy()"
      ],
      "execution_count": null,
      "outputs": []
    },
    {
      "cell_type": "code",
      "metadata": {
        "id": "4iAXC74B0CRI"
      },
      "source": [
        "X_test=X_test.to_numpy()\n",
        "#y_train=y_train.to_numpy()\n"
      ],
      "execution_count": null,
      "outputs": []
    },
    {
      "cell_type": "code",
      "metadata": {
        "id": "Aczdo_5i9h9_"
      },
      "source": [
        "y_test=y_test.to_numpy()"
      ],
      "execution_count": null,
      "outputs": []
    },
    {
      "cell_type": "code",
      "metadata": {
        "id": "TEuUR651rH7k"
      },
      "source": [
        "X_train=X_train.reshape(X_train.shape[0],1,X_train.shape[1])"
      ],
      "execution_count": null,
      "outputs": []
    },
    {
      "cell_type": "code",
      "metadata": {
        "id": "nde6pyyHz9AX"
      },
      "source": [
        "X_test=X_test.reshape(X_test.shape[0], 1,X_test.shape[1])"
      ],
      "execution_count": null,
      "outputs": []
    },
    {
      "cell_type": "code",
      "metadata": {
        "colab": {
          "base_uri": "https://localhost:8080/"
        },
        "id": "RMHx4HVOj-a1",
        "outputId": "94046069-6541-4943-f4d2-04832f183a2c"
      },
      "source": [
        "X_train.shape"
      ],
      "execution_count": null,
      "outputs": [
        {
          "output_type": "execute_result",
          "data": {
            "text/plain": [
              "(265, 1, 42)"
            ]
          },
          "metadata": {
            "tags": []
          },
          "execution_count": 63
        }
      ]
    },
    {
      "cell_type": "code",
      "metadata": {
        "id": "fjhvdkYNkEoy"
      },
      "source": [
        "model = keras.Sequential()\n",
        "# Add an Embedding layer expecting input vocab of size 1000, and\n",
        "# output embedding dimension of size 64.\n",
        "model.add(layers.LSTM(64,return_sequences=True))\n",
        "# Add a LSTM layer with 128 internal units.\n",
        "#model.add(layers.LSTM(128))\n",
        "model.add(keras.layers.Dense(units=64, activation='relu'))\n",
        "model.add(keras.layers.Dense(units=64, activation='relu'))\n",
        "# A a Dense layer with 10 units.\n",
        "model.add(layers.Dense(1,activation='sigmoid'))\n",
        "model.compile(loss='categorical_crossentropy',\n",
        "                  optimizer='adam',\n",
        "                  metrics=['accuracy'])"
      ],
      "execution_count": null,
      "outputs": []
    },
    {
      "cell_type": "code",
      "metadata": {
        "id": "0dtxd8SwrQYU"
      },
      "source": [
        "model = keras.Sequential()\n",
        "model.add(layers.LSTM(64, return_sequences=True,\n",
        "                  )) \n",
        "model.add(layers.LSTM(32, return_sequences=True))\n",
        "model.add(layers.LSTM(32))\n",
        "model.add(layers.Dense(1, activation='softmax'))\n",
        "model.compile(loss='categorical_crossentropy',\n",
        "                  optimizer='adam',\n",
        "                  metrics=['accuracy'])"
      ],
      "execution_count": null,
      "outputs": []
    },
    {
      "cell_type": "code",
      "metadata": {
        "id": "epVuFgEDRXPk"
      },
      "source": [
        "model = Sequential()\n",
        "\n",
        "model.add(LSTM(64, return_sequences=True))\n",
        "model.add(Activation('tanh'))\n",
        "model.add(LSTM(64, return_sequences=True))\n",
        "model.add(Activation('tanh'))\n",
        "model.add(LSTM(64))\n",
        "model.add(Dropout(0.25))\n",
        "\n",
        "model.add(Dense(20))\n",
        "model.add(Activation('tanh'))\n",
        "model.add(Dropout(0.5))\n",
        "model.add(layers.Dense(1,activation='sigmoid'))\n",
        "\n",
        "\n",
        "model.compile(loss='categorical_crossentropy',\n",
        "              optimizer='adam',\n",
        "              metrics=['accuracy'])\n",
        "\n",
        "#model.fit(datasetTrain, Y_train, batch_size=64, nb_epoch=25)"
      ],
      "execution_count": null,
      "outputs": []
    },
    {
      "cell_type": "code",
      "metadata": {
        "id": "A175HpSKDD0w"
      },
      "source": [
        "from sklearn.utils import compute_class_weight\n",
        "classWeight = compute_class_weight('balanced',y,y_train) \n",
        "classWeight = dict(enumerate(classWeight))"
      ],
      "execution_count": null,
      "outputs": []
    },
    {
      "cell_type": "code",
      "metadata": {
        "id": "aXVagXM5BGYY"
      },
      "source": [
        "model = Sequential()\n",
        "model.add(Bidirectional(LSTM(200, return_sequences=True)))\n",
        "model.add(Bidirectional(LSTM(200, return_sequences=True)))\n",
        "model.add(keras.layers.Dense(units=64, activation='tanh'))\n",
        "model.add(Dense(1, activation='sigmoid'))\n",
        "model.compile(loss='categorical_crossentropy', optimizer='adam', metrics=['accuracy'])"
      ],
      "execution_count": null,
      "outputs": []
    },
    {
      "cell_type": "code",
      "metadata": {
        "colab": {
          "base_uri": "https://localhost:8080/"
        },
        "id": "BhluWFcc3cbr",
        "outputId": "03605db3-690e-4602-abbe-bea0663ec8ad"
      },
      "source": [
        "X_train.shape"
      ],
      "execution_count": null,
      "outputs": [
        {
          "output_type": "execute_result",
          "data": {
            "text/plain": [
              "(265, 1, 42)"
            ]
          },
          "metadata": {
            "tags": []
          },
          "execution_count": 46
        }
      ]
    },
    {
      "cell_type": "code",
      "metadata": {
        "id": "xE3jtP9J3Znw"
      },
      "source": [
        "y_train.shape[1]"
      ],
      "execution_count": null,
      "outputs": []
    },
    {
      "cell_type": "code",
      "metadata": {
        "id": "lyQLz2cGlUDL",
        "colab": {
          "base_uri": "https://localhost:8080/"
        },
        "outputId": "942a51c2-17ec-46e0-aa9c-9c9a72f5fd12"
      },
      "source": [
        "#model.compile(optimizer=\"nadam\",metrics=['accuracy'],loss='mae')\n",
        "model.fit(X_train,y_train,epochs=10,batch_size=64)"
      ],
      "execution_count": null,
      "outputs": [
        {
          "output_type": "stream",
          "text": [
            "Epoch 1/10\n"
          ],
          "name": "stdout"
        }
      ]
    },
    {
      "cell_type": "code",
      "metadata": {
        "colab": {
          "base_uri": "https://localhost:8080/"
        },
        "id": "3z5xZZ4f1Zp-",
        "outputId": "dc706356-ee7e-4017-d8b4-bfef6c463e01"
      },
      "source": [
        "model.summary()"
      ],
      "execution_count": null,
      "outputs": [
        {
          "output_type": "stream",
          "text": [
            "Model: \"sequential_3\"\n",
            "_________________________________________________________________\n",
            "Layer (type)                 Output Shape              Param #   \n",
            "=================================================================\n",
            "lstm_4 (LSTM)                (None, 1, 128)            1743360   \n",
            "_________________________________________________________________\n",
            "dense_4 (Dense)              (None, 1, 128)            16512     \n",
            "_________________________________________________________________\n",
            "dense_5 (Dense)              (None, 1, 1)              129       \n",
            "=================================================================\n",
            "Total params: 1,760,001\n",
            "Trainable params: 1,760,001\n",
            "Non-trainable params: 0\n",
            "_________________________________________________________________\n"
          ],
          "name": "stdout"
        }
      ]
    },
    {
      "cell_type": "code",
      "metadata": {
        "id": "fo3kXzUrzzma"
      },
      "source": [
        "y_predict=model.predict(X_test)\n",
        "#y_predict=y_predict.round()"
      ],
      "execution_count": null,
      "outputs": []
    },
    {
      "cell_type": "code",
      "metadata": {
        "colab": {
          "base_uri": "https://localhost:8080/"
        },
        "id": "zjKFs3G9kaed",
        "outputId": "565fc823-6b75-4052-ae2d-21307477b19e"
      },
      "source": [
        "y_predict.shape"
      ],
      "execution_count": null,
      "outputs": [
        {
          "output_type": "execute_result",
          "data": {
            "text/plain": [
              "(20, 1)"
            ]
          },
          "metadata": {
            "tags": []
          },
          "execution_count": 17
        }
      ]
    },
    {
      "cell_type": "code",
      "metadata": {
        "id": "XDUQKNfMkZys"
      },
      "source": [
        "y_predict=y_predict.reshape(y_predict.shape[0],1)"
      ],
      "execution_count": null,
      "outputs": []
    },
    {
      "cell_type": "code",
      "metadata": {
        "colab": {
          "base_uri": "https://localhost:8080/",
          "height": 639
        },
        "id": "tpqH9Y2Qg7gN",
        "outputId": "8136d857-fe10-4b3b-d05b-70888526f5f1"
      },
      "source": [
        "df3=pd.DataFrame((y_predict.astype('int32')))\n",
        "df3"
      ],
      "execution_count": null,
      "outputs": [
        {
          "output_type": "execute_result",
          "data": {
            "text/html": [
              "<div>\n",
              "<style scoped>\n",
              "    .dataframe tbody tr th:only-of-type {\n",
              "        vertical-align: middle;\n",
              "    }\n",
              "\n",
              "    .dataframe tbody tr th {\n",
              "        vertical-align: top;\n",
              "    }\n",
              "\n",
              "    .dataframe thead th {\n",
              "        text-align: right;\n",
              "    }\n",
              "</style>\n",
              "<table border=\"1\" class=\"dataframe\">\n",
              "  <thead>\n",
              "    <tr style=\"text-align: right;\">\n",
              "      <th></th>\n",
              "      <th>0</th>\n",
              "    </tr>\n",
              "  </thead>\n",
              "  <tbody>\n",
              "    <tr>\n",
              "      <th>0</th>\n",
              "      <td>1</td>\n",
              "    </tr>\n",
              "    <tr>\n",
              "      <th>1</th>\n",
              "      <td>1</td>\n",
              "    </tr>\n",
              "    <tr>\n",
              "      <th>2</th>\n",
              "      <td>1</td>\n",
              "    </tr>\n",
              "    <tr>\n",
              "      <th>3</th>\n",
              "      <td>1</td>\n",
              "    </tr>\n",
              "    <tr>\n",
              "      <th>4</th>\n",
              "      <td>1</td>\n",
              "    </tr>\n",
              "    <tr>\n",
              "      <th>5</th>\n",
              "      <td>1</td>\n",
              "    </tr>\n",
              "    <tr>\n",
              "      <th>6</th>\n",
              "      <td>1</td>\n",
              "    </tr>\n",
              "    <tr>\n",
              "      <th>7</th>\n",
              "      <td>1</td>\n",
              "    </tr>\n",
              "    <tr>\n",
              "      <th>8</th>\n",
              "      <td>1</td>\n",
              "    </tr>\n",
              "    <tr>\n",
              "      <th>9</th>\n",
              "      <td>1</td>\n",
              "    </tr>\n",
              "    <tr>\n",
              "      <th>10</th>\n",
              "      <td>1</td>\n",
              "    </tr>\n",
              "    <tr>\n",
              "      <th>11</th>\n",
              "      <td>1</td>\n",
              "    </tr>\n",
              "    <tr>\n",
              "      <th>12</th>\n",
              "      <td>1</td>\n",
              "    </tr>\n",
              "    <tr>\n",
              "      <th>13</th>\n",
              "      <td>1</td>\n",
              "    </tr>\n",
              "    <tr>\n",
              "      <th>14</th>\n",
              "      <td>1</td>\n",
              "    </tr>\n",
              "    <tr>\n",
              "      <th>15</th>\n",
              "      <td>1</td>\n",
              "    </tr>\n",
              "    <tr>\n",
              "      <th>16</th>\n",
              "      <td>1</td>\n",
              "    </tr>\n",
              "    <tr>\n",
              "      <th>17</th>\n",
              "      <td>1</td>\n",
              "    </tr>\n",
              "    <tr>\n",
              "      <th>18</th>\n",
              "      <td>1</td>\n",
              "    </tr>\n",
              "    <tr>\n",
              "      <th>19</th>\n",
              "      <td>1</td>\n",
              "    </tr>\n",
              "  </tbody>\n",
              "</table>\n",
              "</div>"
            ],
            "text/plain": [
              "    0\n",
              "0   1\n",
              "1   1\n",
              "2   1\n",
              "3   1\n",
              "4   1\n",
              "5   1\n",
              "6   1\n",
              "7   1\n",
              "8   1\n",
              "9   1\n",
              "10  1\n",
              "11  1\n",
              "12  1\n",
              "13  1\n",
              "14  1\n",
              "15  1\n",
              "16  1\n",
              "17  1\n",
              "18  1\n",
              "19  1"
            ]
          },
          "metadata": {
            "tags": []
          },
          "execution_count": 19
        }
      ]
    },
    {
      "cell_type": "code",
      "metadata": {
        "id": "58vTcA1vl-df"
      },
      "source": [
        "y_test=y_test.reshape(11,1)"
      ],
      "execution_count": null,
      "outputs": []
    },
    {
      "cell_type": "code",
      "metadata": {
        "id": "Zci9XnfYg3Gg"
      },
      "source": [
        "df4=pd.DataFrame(y_test)\n",
        "df4"
      ],
      "execution_count": null,
      "outputs": []
    },
    {
      "cell_type": "code",
      "metadata": {
        "colab": {
          "base_uri": "https://localhost:8080/"
        },
        "id": "Lke7-xsOPdNA",
        "outputId": "b1f3df82-86e9-497e-ad74-287e92d453d9"
      },
      "source": [
        "accuracy_score(y_test, y_predict, normalize=False)"
      ],
      "execution_count": null,
      "outputs": [
        {
          "output_type": "execute_result",
          "data": {
            "text/plain": [
              "8"
            ]
          },
          "metadata": {
            "tags": []
          },
          "execution_count": 21
        }
      ]
    },
    {
      "cell_type": "code",
      "metadata": {
        "id": "23wMELxdjeSZ"
      },
      "source": [
        "f1_score(y_test, y_predict, zero_division=1)"
      ],
      "execution_count": null,
      "outputs": []
    },
    {
      "cell_type": "code",
      "metadata": {
        "colab": {
          "base_uri": "https://localhost:8080/"
        },
        "id": "KRqi_auDIeXe",
        "outputId": "7c5b4894-7507-42a1-8cb2-faa47c676047"
      },
      "source": [
        "model.save(\"/content/drive/MyDrive/asl/first\")"
      ],
      "execution_count": null,
      "outputs": [
        {
          "output_type": "stream",
          "text": [
            "WARNING:tensorflow:From /usr/local/lib/python3.6/dist-packages/tensorflow/python/training/tracking/tracking.py:111: Model.state_updates (from tensorflow.python.keras.engine.training) is deprecated and will be removed in a future version.\n",
            "Instructions for updating:\n",
            "This property should not be used in TensorFlow 2.0, as updates are applied automatically.\n",
            "WARNING:tensorflow:From /usr/local/lib/python3.6/dist-packages/tensorflow/python/training/tracking/tracking.py:111: Layer.updates (from tensorflow.python.keras.engine.base_layer) is deprecated and will be removed in a future version.\n",
            "Instructions for updating:\n",
            "This property should not be used in TensorFlow 2.0, as updates are applied automatically.\n",
            "INFO:tensorflow:Assets written to: /content/drive/MyDrive/asl/first/assets\n"
          ],
          "name": "stdout"
        }
      ]
    },
    {
      "cell_type": "code",
      "metadata": {
        "id": "ZGKm9kzQIyiZ"
      },
      "source": [
        "model=keras.models.load_model(\"/content/drive/MyDrive/asl/first\")"
      ],
      "execution_count": null,
      "outputs": []
    },
    {
      "cell_type": "code",
      "metadata": {
        "colab": {
          "base_uri": "https://localhost:8080/"
        },
        "id": "lpQfDK0Y9Xh5",
        "outputId": "d1a1cf76-8e86-4f1c-dbf8-4f18114faa93"
      },
      "source": [
        "files=glob.glob('/content/drive/MyDrive/CSV/*')\r\n",
        "for i in files:\r\n",
        "  df=pd.read_csv(i,names=header)\r\n",
        "  df=df.loc[(df!=0).any(1)]\r\n",
        "  print(df)"
      ],
      "execution_count": null,
      "outputs": [
        {
          "output_type": "stream",
          "text": [
            "          0         1         2   ...        40        41      42\n",
            "0   0.482073  0.915595  0.500687  ...  0.530997  1.041522  boring\n",
            "1   0.479692  0.916076  0.500683  ...  0.526877  1.025067  boring\n",
            "2   0.483816  0.916761  0.502884  ...  0.525543  1.042175  boring\n",
            "3   0.474287  0.920954  0.498391  ...  0.506207  0.991241  boring\n",
            "4   0.594473  0.916260  0.567994  ...  0.548807  0.964172  boring\n",
            "..       ...       ...       ...  ...       ...       ...     ...\n",
            "66  0.479198  0.924708  0.503292  ...  0.489928  1.013498  boring\n",
            "67  0.595387  0.917542  0.568908  ...  0.553398  0.959647  boring\n",
            "68  0.479016  0.919682  0.503205  ...  0.490300  1.005153  boring\n",
            "69  0.595669  0.918017  0.568285  ...  0.552712  0.957272  boring\n",
            "70  0.596118  0.916887  0.568768  ...  0.552124  0.956425  boring\n",
            "\n",
            "[71 rows x 43 columns]\n",
            "           0         1         2   ...        40        41      42\n",
            "0    0.712893  0.465760  0.688631  ...  0.758613  0.296837  easter\n",
            "1    0.712627  0.452004  0.687731  ...  0.754534  0.276169  easter\n",
            "2    0.689231  0.429750  0.668378  ...  0.726823  0.283795  easter\n",
            "3    0.683064  0.418735  0.656617  ...  0.710320  0.252760  easter\n",
            "4    0.679844  0.435539  0.651856  ...  0.705418  0.280334  easter\n",
            "..        ...       ...       ...  ...       ...       ...     ...\n",
            "112  0.693123  0.406071  0.667394  ...  0.718535  0.252559  easter\n",
            "113  0.691186  0.406737  0.665552  ...  0.716024  0.252439  easter\n",
            "114  0.691965  0.403963  0.666246  ...  0.714799  0.248200  easter\n",
            "115  0.690497  0.402049  0.664176  ...  0.714457  0.244907  easter\n",
            "116  0.687479  0.408893  0.661736  ...  0.713666  0.248164  easter\n",
            "\n",
            "[117 rows x 43 columns]\n",
            "                                                                                                                                                                                                    0   ...     42\n",
            "0.000000 0.000000 0.000000 0.000000 0.000000 0.000000 0.000000 0.000000 0.000000 0.000000 0.000000 0.000000 0.000000 0.000000 0.000000 0.000000 0.000000 0.000000 0.000000 0.000000 0.000000  0.000000  ...  phone\n",
            "                                                                                                                                                                                    0.000000  0.000000  ...  phone\n",
            "0.699668 0.598541 0.711023 0.518234 0.724348 0.457568 0.732859 0.412622 0.735910 0.366709 0.757858 0.505174 0.738335 0.474635 0.710606 0.459090 0.693449 0.447280 0.751379 0.556947 0.713902  0.516596  ...    NaN\n",
            "0.673724 0.327910 0.663437 0.283490 0.648666 0.249689 0.636888 0.220993 0.633543 0.197429 0.632804 0.229234 0.605002 0.238324 0.601950 0.253614 0.604633 0.261808 0.629057 0.240415 0.601492  0.263202  ...    NaN\n",
            "0.676210 0.324927 0.664404 0.278237 0.649254 0.245659 0.637734 0.215539 0.635429 0.188543 0.632403 0.227967 0.606003 0.235843 0.603559 0.249284 0.606467 0.257006 0.629629 0.239657 0.602795  0.262991  ...    NaN\n",
            "...                                                                                                                                                                                                ...  ...    ...\n",
            "0.669818 0.313004 0.660180 0.265782 0.647024 0.233720 0.636283 0.211473 0.634000 0.192573 0.630532 0.220234 0.609783 0.209931 0.605184 0.216785 0.607304 0.225419 0.625914 0.239801 0.604199  0.249656  ...    NaN\n",
            "0.675680 0.335655 0.660323 0.285687 0.642785 0.254939 0.629040 0.234919 0.625195 0.215249 0.625531 0.242312 0.597038 0.247366 0.596203 0.256482 0.602448 0.263364 0.622955 0.259109 0.596686  0.270316  ...    NaN\n",
            "0.664101 0.332752 0.653865 0.285018 0.638134 0.257169 0.625962 0.239212 0.619124 0.221184 0.622407 0.247576 0.601948 0.251018 0.594317 0.260438 0.592668 0.271145 0.619496 0.261022 0.599106  0.269154  ...    NaN\n",
            "0.669763 0.335839 0.655544 0.288268 0.638076 0.258495 0.623135 0.240198 0.614548 0.225888 0.623045 0.238538 0.595919 0.250124 0.597452 0.265162 0.604913 0.271796 0.621029 0.257403 0.595150  0.274423  ...    NaN\n",
            "0.668966 0.330875 0.658708 0.285318 0.644401 0.255596 0.632986 0.233327 0.626352 0.215619 0.630177 0.231090 0.601254 0.245238 0.598994 0.261092 0.602916 0.269055 0.626281 0.241779 0.598182  0.264053  ...    NaN\n",
            "\n",
            "[205 rows x 43 columns]\n",
            "                                                                                                                                                                                                    0   ...       42\n",
            "0.000000 0.000000 0.000000 0.000000 0.000000 0.000000 0.000000 0.000000 0.000000 0.000000 0.000000 0.000000 0.000000 0.000000 0.000000 0.000000 0.000000 0.000000 0.000000 0.000000 0.000000  0.000000  ...  library\n",
            "                                                                                                                                                                                    0.000000  0.000000  ...  library\n",
            "0.658884 0.712862 0.617699 0.685449 0.583657 0.641095 0.555806 0.612695 0.529345 0.595565 0.631158 0.575203 0.620556 0.539503 0.616844 0.507544 0.614340 0.478836 0.663395 0.574091 0.626106  0.623598  ...      NaN\n",
            "0.653692 0.694563 0.614128 0.672967 0.584039 0.633196 0.558351 0.605605 0.532713 0.588895 0.627944 0.567785 0.617397 0.532469 0.614874 0.495088 0.613643 0.457979 0.660434 0.564766 0.623812  0.608833  ...      NaN\n",
            "0.652713 0.685210 0.611304 0.663379 0.582193 0.624906 0.558084 0.597559 0.533748 0.580974 0.629088 0.557345 0.615976 0.524106 0.612659 0.488729 0.612127 0.452660 0.662968 0.557028 0.626338  0.602115  ...      NaN\n",
            "...                                                                                                                                                                                                ...  ...      ...\n",
            "0.000000 0.000000 0.000000 0.000000 0.000000 0.000000 0.000000 0.000000 0.000000 0.000000 0.000000 0.000000 0.000000 0.000000 0.000000 0.000000 0.000000 0.000000 0.000000 0.000000 0.000000  0.000000  ...  library\n",
            "                                                                                                                                                                                    0.000000  0.000000  ...  library\n",
            "                                                                                                                                                                                    0.000000  0.000000  ...  library\n",
            "0.667113 0.757061 0.627147 0.735452 0.595554 0.695058 0.571465 0.667707 0.546840 0.647231 0.637315 0.633354 0.623976 0.594566 0.614359 0.571236 0.605923 0.550156 0.666043 0.633669 0.623972  0.683908  ...      NaN\n",
            "0.664113 0.740248 0.623112 0.705528 0.584074 0.658122 0.551930 0.629274 0.523310 0.610945 0.631936 0.595061 0.620648 0.555111 0.615086 0.528218 0.611393 0.504113 0.664914 0.594250 0.628643  0.650075  ...      NaN\n",
            "\n",
            "[74 rows x 43 columns]\n",
            "                                                                                      0   ...    42\n",
            "0.0 0.0 0.0 0.0 0.0 0.0 0.0 0.0 0.0 0.0 0.0 0.0 0.0 0.0 0.0 0.0 0.0 0.0 0.0 0.0 0.0  0.0  ...  blue\n",
            "                                                                                0.0  0.0  ...  blue\n",
            "                                                                                0.0  0.0  ...  blue\n",
            "                                                                                0.0  0.0  ...  blue\n",
            "                                                                                0.0  0.0  ...  blue\n",
            "...                                                                                  ...  ...   ...\n",
            "                                                                                0.0  0.0  ...  blue\n",
            "                                                                                0.0  0.0  ...  blue\n",
            "                                                                                0.0  0.0  ...  blue\n",
            "                                                                                0.0  0.0  ...  blue\n",
            "                                                                                0.0  0.0  ...  blue\n",
            "\n",
            "[112 rows x 43 columns]\n",
            "                                                                                                                                                                                                    0   ...    42\n",
            "0.000000 0.000000 0.000000 0.000000 0.000000 0.000000 0.000000 0.000000 0.000000 0.000000 0.000000 0.000000 0.000000 0.000000 0.000000 0.000000 0.000000 0.000000 0.000000 0.000000 0.000000  0.000000  ...  cost\n",
            "                                                                                                                                                                                    0.000000  0.000000  ...  cost\n",
            "0.660881 0.813995 0.646526 0.763630 0.616572 0.734058 0.585194 0.725358 0.561295 0.727290 0.610862 0.737999 0.567872 0.729118 0.554038 0.725854 0.548787 0.721007 0.603999 0.772836 0.564783  0.756738  ...   NaN\n",
            "0.362322 0.606219 0.355081 0.559542 0.334669 0.527195 0.313054 0.513781 0.295972 0.499818 0.302445 0.547821 0.268291 0.549872 0.250257 0.552762 0.232426 0.555509 0.301750 0.576062 0.265717  0.579034  ...   NaN\n",
            "0.362105 0.606911 0.355034 0.560094 0.334868 0.527236 0.313404 0.513425 0.295766 0.500299 0.302350 0.548209 0.268140 0.549934 0.250076 0.553021 0.231938 0.555874 0.301566 0.576673 0.265670  0.579495  ...   NaN\n",
            "...                                                                                                                                                                                                ...  ...   ...\n",
            "0.371945 0.669222 0.369536 0.621005 0.353851 0.587490 0.334585 0.566378 0.318658 0.566859 0.324161 0.626457 0.299373 0.635473 0.285361 0.640754 0.275204 0.648367 0.324088 0.656948 0.299438  0.672323  ...   NaN\n",
            "0.356829 0.644206 0.355387 0.600260 0.339321 0.571692 0.322226 0.560205 0.306508 0.547915 0.311949 0.603309 0.282398 0.613140 0.266098 0.621154 0.251325 0.627287 0.313445 0.633210 0.282150  0.642939  ...   NaN\n",
            "0.356606 0.643694 0.355262 0.600357 0.339200 0.571981 0.322208 0.560329 0.306722 0.547519 0.311933 0.603297 0.282663 0.612901 0.266369 0.620744 0.251640 0.627027 0.313284 0.632812 0.282091  0.642670  ...   NaN\n",
            "0.440791 0.689979 0.456393 0.627540 0.449456 0.583907 0.438190 0.563970 0.427165 0.575718 0.398512 0.585537 0.365836 0.544429 0.375784 0.533065 0.389884 0.542718 0.386620 0.616798 0.390082  0.571326  ...   NaN\n",
            "0.441429 0.689774 0.456970 0.627221 0.449751 0.583321 0.438440 0.563201 0.427605 0.575165 0.398893 0.585886 0.365668 0.544919 0.376033 0.533405 0.390536 0.542707 0.387132 0.617324 0.389569  0.572277  ...   NaN\n",
            "\n",
            "[552 rows x 43 columns]\n",
            "                                                                                      0   ...    42\n",
            "0.0 0.0 0.0 0.0 0.0 0.0 0.0 0.0 0.0 0.0 0.0 0.0 0.0 0.0 0.0 0.0 0.0 0.0 0.0 0.0 0.0  0.0  ...  love\n",
            "                                                                                0.0  0.0  ...  love\n",
            "                                                                                0.0  0.0  ...  love\n",
            "                                                                                0.0  0.0  ...  love\n",
            "                                                                                0.0  0.0  ...  love\n",
            "...                                                                                  ...  ...   ...\n",
            "                                                                                0.0  0.0  ...  love\n",
            "                                                                                0.0  0.0  ...  love\n",
            "                                                                                0.0  0.0  ...  love\n",
            "                                                                                0.0  0.0  ...  love\n",
            "                                                                                0.0  0.0  ...  love\n",
            "\n",
            "[75 rows x 43 columns]\n",
            "                                                                                      0   ...    42\n",
            "0.0 0.0 0.0 0.0 0.0 0.0 0.0 0.0 0.0 0.0 0.0 0.0 0.0 0.0 0.0 0.0 0.0 0.0 0.0 0.0 0.0  0.0  ...  some\n",
            "                                                                                0.0  0.0  ...  some\n",
            "                                                                                0.0  0.0  ...  some\n",
            "                                                                                0.0  0.0  ...  some\n",
            "                                                                                0.0  0.0  ...  some\n",
            "...                                                                                  ...  ...   ...\n",
            "                                                                                0.0  0.0  ...  some\n",
            "                                                                                0.0  0.0  ...  some\n",
            "                                                                                0.0  0.0  ...  some\n",
            "                                                                                0.0  0.0  ...  some\n",
            "                                                                                0.0  0.0  ...  some\n",
            "\n",
            "[92 rows x 43 columns]\n"
          ],
          "name": "stdout"
        }
      ]
    },
    {
      "cell_type": "code",
      "metadata": {
        "colab": {
          "base_uri": "https://localhost:8080/",
          "height": 422
        },
        "id": "xBls3Wlu-ucl",
        "outputId": "ef22a826-6e4f-49ad-f6b6-dfd61658e8a3"
      },
      "source": [
        "df1=pd.read_csv('/content/drive/MyDrive/CSV/blue.csv',names=header)\r\n",
        "#df1=df1.drop(0,axis=1)\r\n",
        "df1"
      ],
      "execution_count": null,
      "outputs": [
        {
          "output_type": "execute_result",
          "data": {
            "text/html": [
              "<div>\n",
              "<style scoped>\n",
              "    .dataframe tbody tr th:only-of-type {\n",
              "        vertical-align: middle;\n",
              "    }\n",
              "\n",
              "    .dataframe tbody tr th {\n",
              "        vertical-align: top;\n",
              "    }\n",
              "\n",
              "    .dataframe thead th {\n",
              "        text-align: right;\n",
              "    }\n",
              "</style>\n",
              "<table border=\"1\" class=\"dataframe\">\n",
              "  <thead>\n",
              "    <tr style=\"text-align: right;\">\n",
              "      <th></th>\n",
              "      <th></th>\n",
              "      <th></th>\n",
              "      <th></th>\n",
              "      <th></th>\n",
              "      <th></th>\n",
              "      <th></th>\n",
              "      <th></th>\n",
              "      <th></th>\n",
              "      <th></th>\n",
              "      <th></th>\n",
              "      <th></th>\n",
              "      <th></th>\n",
              "      <th></th>\n",
              "      <th></th>\n",
              "      <th></th>\n",
              "      <th></th>\n",
              "      <th></th>\n",
              "      <th></th>\n",
              "      <th></th>\n",
              "      <th></th>\n",
              "      <th>0</th>\n",
              "      <th>1</th>\n",
              "      <th>2</th>\n",
              "      <th>3</th>\n",
              "      <th>4</th>\n",
              "      <th>5</th>\n",
              "      <th>6</th>\n",
              "      <th>7</th>\n",
              "      <th>8</th>\n",
              "      <th>9</th>\n",
              "      <th>10</th>\n",
              "      <th>11</th>\n",
              "      <th>12</th>\n",
              "      <th>13</th>\n",
              "      <th>14</th>\n",
              "      <th>15</th>\n",
              "      <th>16</th>\n",
              "      <th>17</th>\n",
              "      <th>18</th>\n",
              "      <th>19</th>\n",
              "      <th>20</th>\n",
              "      <th>21</th>\n",
              "      <th>22</th>\n",
              "      <th>23</th>\n",
              "      <th>24</th>\n",
              "      <th>25</th>\n",
              "      <th>26</th>\n",
              "      <th>27</th>\n",
              "      <th>28</th>\n",
              "      <th>29</th>\n",
              "      <th>30</th>\n",
              "      <th>31</th>\n",
              "      <th>32</th>\n",
              "      <th>33</th>\n",
              "      <th>34</th>\n",
              "      <th>35</th>\n",
              "      <th>36</th>\n",
              "      <th>37</th>\n",
              "      <th>38</th>\n",
              "      <th>39</th>\n",
              "      <th>40</th>\n",
              "      <th>41</th>\n",
              "      <th>42</th>\n",
              "    </tr>\n",
              "  </thead>\n",
              "  <tbody>\n",
              "    <tr>\n",
              "      <th rowspan=\"11\" valign=\"top\">0.0</th>\n",
              "      <th rowspan=\"11\" valign=\"top\">0.0</th>\n",
              "      <th rowspan=\"11\" valign=\"top\">0.0</th>\n",
              "      <th rowspan=\"11\" valign=\"top\">0.0</th>\n",
              "      <th rowspan=\"11\" valign=\"top\">0.0</th>\n",
              "      <th rowspan=\"11\" valign=\"top\">0.0</th>\n",
              "      <th rowspan=\"11\" valign=\"top\">0.0</th>\n",
              "      <th rowspan=\"11\" valign=\"top\">0.0</th>\n",
              "      <th rowspan=\"11\" valign=\"top\">0.0</th>\n",
              "      <th rowspan=\"11\" valign=\"top\">0.0</th>\n",
              "      <th rowspan=\"11\" valign=\"top\">0.0</th>\n",
              "      <th rowspan=\"11\" valign=\"top\">0.0</th>\n",
              "      <th rowspan=\"11\" valign=\"top\">0.0</th>\n",
              "      <th rowspan=\"11\" valign=\"top\">0.0</th>\n",
              "      <th rowspan=\"11\" valign=\"top\">0.0</th>\n",
              "      <th rowspan=\"11\" valign=\"top\">0.0</th>\n",
              "      <th rowspan=\"11\" valign=\"top\">0.0</th>\n",
              "      <th rowspan=\"11\" valign=\"top\">0.0</th>\n",
              "      <th rowspan=\"11\" valign=\"top\">0.0</th>\n",
              "      <th rowspan=\"11\" valign=\"top\">0.0</th>\n",
              "      <th>0.0</th>\n",
              "      <td>0.0</td>\n",
              "      <td>0.0</td>\n",
              "      <td>0.0</td>\n",
              "      <td>0.0</td>\n",
              "      <td>0.0</td>\n",
              "      <td>0.0</td>\n",
              "      <td>0.0</td>\n",
              "      <td>0.0</td>\n",
              "      <td>0.0</td>\n",
              "      <td>0.0</td>\n",
              "      <td>0.0</td>\n",
              "      <td>0.0</td>\n",
              "      <td>0.0</td>\n",
              "      <td>0.0</td>\n",
              "      <td>0.0</td>\n",
              "      <td>0.0</td>\n",
              "      <td>0.0</td>\n",
              "      <td>0.0</td>\n",
              "      <td>0.0</td>\n",
              "      <td>0.0</td>\n",
              "      <td>0.0</td>\n",
              "      <td>0</td>\n",
              "      <td>0.0</td>\n",
              "      <td>0.0</td>\n",
              "      <td>0.0</td>\n",
              "      <td>0.0</td>\n",
              "      <td>0.0</td>\n",
              "      <td>0.0</td>\n",
              "      <td>0.0</td>\n",
              "      <td>0.0</td>\n",
              "      <td>0.0</td>\n",
              "      <td>0.0</td>\n",
              "      <td>0.0</td>\n",
              "      <td>0.0</td>\n",
              "      <td>0.0</td>\n",
              "      <td>0.0</td>\n",
              "      <td>0.0</td>\n",
              "      <td>0.0</td>\n",
              "      <td>0.0</td>\n",
              "      <td>0.0</td>\n",
              "      <td>0.0</td>\n",
              "      <td>0.0</td>\n",
              "      <td>blue</td>\n",
              "    </tr>\n",
              "    <tr>\n",
              "      <th>0.0</th>\n",
              "      <td>0.0</td>\n",
              "      <td>0.0</td>\n",
              "      <td>0.0</td>\n",
              "      <td>0.0</td>\n",
              "      <td>0.0</td>\n",
              "      <td>0.0</td>\n",
              "      <td>0.0</td>\n",
              "      <td>0.0</td>\n",
              "      <td>0.0</td>\n",
              "      <td>0.0</td>\n",
              "      <td>0.0</td>\n",
              "      <td>0.0</td>\n",
              "      <td>0.0</td>\n",
              "      <td>0.0</td>\n",
              "      <td>0.0</td>\n",
              "      <td>0.0</td>\n",
              "      <td>0.0</td>\n",
              "      <td>0.0</td>\n",
              "      <td>0.0</td>\n",
              "      <td>0.0</td>\n",
              "      <td>0.0</td>\n",
              "      <td>0</td>\n",
              "      <td>0.0</td>\n",
              "      <td>0.0</td>\n",
              "      <td>0.0</td>\n",
              "      <td>0.0</td>\n",
              "      <td>0.0</td>\n",
              "      <td>0.0</td>\n",
              "      <td>0.0</td>\n",
              "      <td>0.0</td>\n",
              "      <td>0.0</td>\n",
              "      <td>0.0</td>\n",
              "      <td>0.0</td>\n",
              "      <td>0.0</td>\n",
              "      <td>0.0</td>\n",
              "      <td>0.0</td>\n",
              "      <td>0.0</td>\n",
              "      <td>0.0</td>\n",
              "      <td>0.0</td>\n",
              "      <td>0.0</td>\n",
              "      <td>0.0</td>\n",
              "      <td>0.0</td>\n",
              "      <td>blue</td>\n",
              "    </tr>\n",
              "    <tr>\n",
              "      <th>0.0</th>\n",
              "      <td>0.0</td>\n",
              "      <td>0.0</td>\n",
              "      <td>0.0</td>\n",
              "      <td>0.0</td>\n",
              "      <td>0.0</td>\n",
              "      <td>0.0</td>\n",
              "      <td>0.0</td>\n",
              "      <td>0.0</td>\n",
              "      <td>0.0</td>\n",
              "      <td>0.0</td>\n",
              "      <td>0.0</td>\n",
              "      <td>0.0</td>\n",
              "      <td>0.0</td>\n",
              "      <td>0.0</td>\n",
              "      <td>0.0</td>\n",
              "      <td>0.0</td>\n",
              "      <td>0.0</td>\n",
              "      <td>0.0</td>\n",
              "      <td>0.0</td>\n",
              "      <td>0.0</td>\n",
              "      <td>0.0</td>\n",
              "      <td>0</td>\n",
              "      <td>0.0</td>\n",
              "      <td>0.0</td>\n",
              "      <td>0.0</td>\n",
              "      <td>0.0</td>\n",
              "      <td>0.0</td>\n",
              "      <td>0.0</td>\n",
              "      <td>0.0</td>\n",
              "      <td>0.0</td>\n",
              "      <td>0.0</td>\n",
              "      <td>0.0</td>\n",
              "      <td>0.0</td>\n",
              "      <td>0.0</td>\n",
              "      <td>0.0</td>\n",
              "      <td>0.0</td>\n",
              "      <td>0.0</td>\n",
              "      <td>0.0</td>\n",
              "      <td>0.0</td>\n",
              "      <td>0.0</td>\n",
              "      <td>0.0</td>\n",
              "      <td>0.0</td>\n",
              "      <td>blue</td>\n",
              "    </tr>\n",
              "    <tr>\n",
              "      <th>0.0</th>\n",
              "      <td>0.0</td>\n",
              "      <td>0.0</td>\n",
              "      <td>0.0</td>\n",
              "      <td>0.0</td>\n",
              "      <td>0.0</td>\n",
              "      <td>0.0</td>\n",
              "      <td>0.0</td>\n",
              "      <td>0.0</td>\n",
              "      <td>0.0</td>\n",
              "      <td>0.0</td>\n",
              "      <td>0.0</td>\n",
              "      <td>0.0</td>\n",
              "      <td>0.0</td>\n",
              "      <td>0.0</td>\n",
              "      <td>0.0</td>\n",
              "      <td>0.0</td>\n",
              "      <td>0.0</td>\n",
              "      <td>0.0</td>\n",
              "      <td>0.0</td>\n",
              "      <td>0.0</td>\n",
              "      <td>0.0</td>\n",
              "      <td>0</td>\n",
              "      <td>0.0</td>\n",
              "      <td>0.0</td>\n",
              "      <td>0.0</td>\n",
              "      <td>0.0</td>\n",
              "      <td>0.0</td>\n",
              "      <td>0.0</td>\n",
              "      <td>0.0</td>\n",
              "      <td>0.0</td>\n",
              "      <td>0.0</td>\n",
              "      <td>0.0</td>\n",
              "      <td>0.0</td>\n",
              "      <td>0.0</td>\n",
              "      <td>0.0</td>\n",
              "      <td>0.0</td>\n",
              "      <td>0.0</td>\n",
              "      <td>0.0</td>\n",
              "      <td>0.0</td>\n",
              "      <td>0.0</td>\n",
              "      <td>0.0</td>\n",
              "      <td>0.0</td>\n",
              "      <td>blue</td>\n",
              "    </tr>\n",
              "    <tr>\n",
              "      <th>0.0</th>\n",
              "      <td>0.0</td>\n",
              "      <td>0.0</td>\n",
              "      <td>0.0</td>\n",
              "      <td>0.0</td>\n",
              "      <td>0.0</td>\n",
              "      <td>0.0</td>\n",
              "      <td>0.0</td>\n",
              "      <td>0.0</td>\n",
              "      <td>0.0</td>\n",
              "      <td>0.0</td>\n",
              "      <td>0.0</td>\n",
              "      <td>0.0</td>\n",
              "      <td>0.0</td>\n",
              "      <td>0.0</td>\n",
              "      <td>0.0</td>\n",
              "      <td>0.0</td>\n",
              "      <td>0.0</td>\n",
              "      <td>0.0</td>\n",
              "      <td>0.0</td>\n",
              "      <td>0.0</td>\n",
              "      <td>0.0</td>\n",
              "      <td>0</td>\n",
              "      <td>0.0</td>\n",
              "      <td>0.0</td>\n",
              "      <td>0.0</td>\n",
              "      <td>0.0</td>\n",
              "      <td>0.0</td>\n",
              "      <td>0.0</td>\n",
              "      <td>0.0</td>\n",
              "      <td>0.0</td>\n",
              "      <td>0.0</td>\n",
              "      <td>0.0</td>\n",
              "      <td>0.0</td>\n",
              "      <td>0.0</td>\n",
              "      <td>0.0</td>\n",
              "      <td>0.0</td>\n",
              "      <td>0.0</td>\n",
              "      <td>0.0</td>\n",
              "      <td>0.0</td>\n",
              "      <td>0.0</td>\n",
              "      <td>0.0</td>\n",
              "      <td>0.0</td>\n",
              "      <td>blue</td>\n",
              "    </tr>\n",
              "    <tr>\n",
              "      <th>...</th>\n",
              "      <td>...</td>\n",
              "      <td>...</td>\n",
              "      <td>...</td>\n",
              "      <td>...</td>\n",
              "      <td>...</td>\n",
              "      <td>...</td>\n",
              "      <td>...</td>\n",
              "      <td>...</td>\n",
              "      <td>...</td>\n",
              "      <td>...</td>\n",
              "      <td>...</td>\n",
              "      <td>...</td>\n",
              "      <td>...</td>\n",
              "      <td>...</td>\n",
              "      <td>...</td>\n",
              "      <td>...</td>\n",
              "      <td>...</td>\n",
              "      <td>...</td>\n",
              "      <td>...</td>\n",
              "      <td>...</td>\n",
              "      <td>...</td>\n",
              "      <td>...</td>\n",
              "      <td>...</td>\n",
              "      <td>...</td>\n",
              "      <td>...</td>\n",
              "      <td>...</td>\n",
              "      <td>...</td>\n",
              "      <td>...</td>\n",
              "      <td>...</td>\n",
              "      <td>...</td>\n",
              "      <td>...</td>\n",
              "      <td>...</td>\n",
              "      <td>...</td>\n",
              "      <td>...</td>\n",
              "      <td>...</td>\n",
              "      <td>...</td>\n",
              "      <td>...</td>\n",
              "      <td>...</td>\n",
              "      <td>...</td>\n",
              "      <td>...</td>\n",
              "      <td>...</td>\n",
              "      <td>...</td>\n",
              "      <td>...</td>\n",
              "    </tr>\n",
              "    <tr>\n",
              "      <th>0.0</th>\n",
              "      <td>0.0</td>\n",
              "      <td>0.0</td>\n",
              "      <td>0.0</td>\n",
              "      <td>0.0</td>\n",
              "      <td>0.0</td>\n",
              "      <td>0.0</td>\n",
              "      <td>0.0</td>\n",
              "      <td>0.0</td>\n",
              "      <td>0.0</td>\n",
              "      <td>0.0</td>\n",
              "      <td>0.0</td>\n",
              "      <td>0.0</td>\n",
              "      <td>0.0</td>\n",
              "      <td>0.0</td>\n",
              "      <td>0.0</td>\n",
              "      <td>0.0</td>\n",
              "      <td>0.0</td>\n",
              "      <td>0.0</td>\n",
              "      <td>0.0</td>\n",
              "      <td>0.0</td>\n",
              "      <td>0.0</td>\n",
              "      <td>0</td>\n",
              "      <td>0.0</td>\n",
              "      <td>0.0</td>\n",
              "      <td>0.0</td>\n",
              "      <td>0.0</td>\n",
              "      <td>0.0</td>\n",
              "      <td>0.0</td>\n",
              "      <td>0.0</td>\n",
              "      <td>0.0</td>\n",
              "      <td>0.0</td>\n",
              "      <td>0.0</td>\n",
              "      <td>0.0</td>\n",
              "      <td>0.0</td>\n",
              "      <td>0.0</td>\n",
              "      <td>0.0</td>\n",
              "      <td>0.0</td>\n",
              "      <td>0.0</td>\n",
              "      <td>0.0</td>\n",
              "      <td>0.0</td>\n",
              "      <td>0.0</td>\n",
              "      <td>0.0</td>\n",
              "      <td>blue</td>\n",
              "    </tr>\n",
              "    <tr>\n",
              "      <th>0.0</th>\n",
              "      <td>0.0</td>\n",
              "      <td>0.0</td>\n",
              "      <td>0.0</td>\n",
              "      <td>0.0</td>\n",
              "      <td>0.0</td>\n",
              "      <td>0.0</td>\n",
              "      <td>0.0</td>\n",
              "      <td>0.0</td>\n",
              "      <td>0.0</td>\n",
              "      <td>0.0</td>\n",
              "      <td>0.0</td>\n",
              "      <td>0.0</td>\n",
              "      <td>0.0</td>\n",
              "      <td>0.0</td>\n",
              "      <td>0.0</td>\n",
              "      <td>0.0</td>\n",
              "      <td>0.0</td>\n",
              "      <td>0.0</td>\n",
              "      <td>0.0</td>\n",
              "      <td>0.0</td>\n",
              "      <td>0.0</td>\n",
              "      <td>0</td>\n",
              "      <td>0.0</td>\n",
              "      <td>0.0</td>\n",
              "      <td>0.0</td>\n",
              "      <td>0.0</td>\n",
              "      <td>0.0</td>\n",
              "      <td>0.0</td>\n",
              "      <td>0.0</td>\n",
              "      <td>0.0</td>\n",
              "      <td>0.0</td>\n",
              "      <td>0.0</td>\n",
              "      <td>0.0</td>\n",
              "      <td>0.0</td>\n",
              "      <td>0.0</td>\n",
              "      <td>0.0</td>\n",
              "      <td>0.0</td>\n",
              "      <td>0.0</td>\n",
              "      <td>0.0</td>\n",
              "      <td>0.0</td>\n",
              "      <td>0.0</td>\n",
              "      <td>0.0</td>\n",
              "      <td>blue</td>\n",
              "    </tr>\n",
              "    <tr>\n",
              "      <th>0.0</th>\n",
              "      <td>0.0</td>\n",
              "      <td>0.0</td>\n",
              "      <td>0.0</td>\n",
              "      <td>0.0</td>\n",
              "      <td>0.0</td>\n",
              "      <td>0.0</td>\n",
              "      <td>0.0</td>\n",
              "      <td>0.0</td>\n",
              "      <td>0.0</td>\n",
              "      <td>0.0</td>\n",
              "      <td>0.0</td>\n",
              "      <td>0.0</td>\n",
              "      <td>0.0</td>\n",
              "      <td>0.0</td>\n",
              "      <td>0.0</td>\n",
              "      <td>0.0</td>\n",
              "      <td>0.0</td>\n",
              "      <td>0.0</td>\n",
              "      <td>0.0</td>\n",
              "      <td>0.0</td>\n",
              "      <td>0.0</td>\n",
              "      <td>0</td>\n",
              "      <td>0.0</td>\n",
              "      <td>0.0</td>\n",
              "      <td>0.0</td>\n",
              "      <td>0.0</td>\n",
              "      <td>0.0</td>\n",
              "      <td>0.0</td>\n",
              "      <td>0.0</td>\n",
              "      <td>0.0</td>\n",
              "      <td>0.0</td>\n",
              "      <td>0.0</td>\n",
              "      <td>0.0</td>\n",
              "      <td>0.0</td>\n",
              "      <td>0.0</td>\n",
              "      <td>0.0</td>\n",
              "      <td>0.0</td>\n",
              "      <td>0.0</td>\n",
              "      <td>0.0</td>\n",
              "      <td>0.0</td>\n",
              "      <td>0.0</td>\n",
              "      <td>0.0</td>\n",
              "      <td>blue</td>\n",
              "    </tr>\n",
              "    <tr>\n",
              "      <th>0.0</th>\n",
              "      <td>0.0</td>\n",
              "      <td>0.0</td>\n",
              "      <td>0.0</td>\n",
              "      <td>0.0</td>\n",
              "      <td>0.0</td>\n",
              "      <td>0.0</td>\n",
              "      <td>0.0</td>\n",
              "      <td>0.0</td>\n",
              "      <td>0.0</td>\n",
              "      <td>0.0</td>\n",
              "      <td>0.0</td>\n",
              "      <td>0.0</td>\n",
              "      <td>0.0</td>\n",
              "      <td>0.0</td>\n",
              "      <td>0.0</td>\n",
              "      <td>0.0</td>\n",
              "      <td>0.0</td>\n",
              "      <td>0.0</td>\n",
              "      <td>0.0</td>\n",
              "      <td>0.0</td>\n",
              "      <td>0.0</td>\n",
              "      <td>0</td>\n",
              "      <td>0.0</td>\n",
              "      <td>0.0</td>\n",
              "      <td>0.0</td>\n",
              "      <td>0.0</td>\n",
              "      <td>0.0</td>\n",
              "      <td>0.0</td>\n",
              "      <td>0.0</td>\n",
              "      <td>0.0</td>\n",
              "      <td>0.0</td>\n",
              "      <td>0.0</td>\n",
              "      <td>0.0</td>\n",
              "      <td>0.0</td>\n",
              "      <td>0.0</td>\n",
              "      <td>0.0</td>\n",
              "      <td>0.0</td>\n",
              "      <td>0.0</td>\n",
              "      <td>0.0</td>\n",
              "      <td>0.0</td>\n",
              "      <td>0.0</td>\n",
              "      <td>0.0</td>\n",
              "      <td>blue</td>\n",
              "    </tr>\n",
              "    <tr>\n",
              "      <th>0.0</th>\n",
              "      <td>0.0</td>\n",
              "      <td>0.0</td>\n",
              "      <td>0.0</td>\n",
              "      <td>0.0</td>\n",
              "      <td>0.0</td>\n",
              "      <td>0.0</td>\n",
              "      <td>0.0</td>\n",
              "      <td>0.0</td>\n",
              "      <td>0.0</td>\n",
              "      <td>0.0</td>\n",
              "      <td>0.0</td>\n",
              "      <td>0.0</td>\n",
              "      <td>0.0</td>\n",
              "      <td>0.0</td>\n",
              "      <td>0.0</td>\n",
              "      <td>0.0</td>\n",
              "      <td>0.0</td>\n",
              "      <td>0.0</td>\n",
              "      <td>0.0</td>\n",
              "      <td>0.0</td>\n",
              "      <td>0.0</td>\n",
              "      <td>0</td>\n",
              "      <td>0.0</td>\n",
              "      <td>0.0</td>\n",
              "      <td>0.0</td>\n",
              "      <td>0.0</td>\n",
              "      <td>0.0</td>\n",
              "      <td>0.0</td>\n",
              "      <td>0.0</td>\n",
              "      <td>0.0</td>\n",
              "      <td>0.0</td>\n",
              "      <td>0.0</td>\n",
              "      <td>0.0</td>\n",
              "      <td>0.0</td>\n",
              "      <td>0.0</td>\n",
              "      <td>0.0</td>\n",
              "      <td>0.0</td>\n",
              "      <td>0.0</td>\n",
              "      <td>0.0</td>\n",
              "      <td>0.0</td>\n",
              "      <td>0.0</td>\n",
              "      <td>0.0</td>\n",
              "      <td>blue</td>\n",
              "    </tr>\n",
              "  </tbody>\n",
              "</table>\n",
              "<p>112 rows × 43 columns</p>\n",
              "</div>"
            ],
            "text/plain": [
              "                                                                                      0   ...    42\n",
              "0.0 0.0 0.0 0.0 0.0 0.0 0.0 0.0 0.0 0.0 0.0 0.0 0.0 0.0 0.0 0.0 0.0 0.0 0.0 0.0 0.0  0.0  ...  blue\n",
              "                                                                                0.0  0.0  ...  blue\n",
              "                                                                                0.0  0.0  ...  blue\n",
              "                                                                                0.0  0.0  ...  blue\n",
              "                                                                                0.0  0.0  ...  blue\n",
              "...                                                                                  ...  ...   ...\n",
              "                                                                                0.0  0.0  ...  blue\n",
              "                                                                                0.0  0.0  ...  blue\n",
              "                                                                                0.0  0.0  ...  blue\n",
              "                                                                                0.0  0.0  ...  blue\n",
              "                                                                                0.0  0.0  ...  blue\n",
              "\n",
              "[112 rows x 43 columns]"
            ]
          },
          "metadata": {
            "tags": []
          },
          "execution_count": 16
        }
      ]
    }
  ]
}